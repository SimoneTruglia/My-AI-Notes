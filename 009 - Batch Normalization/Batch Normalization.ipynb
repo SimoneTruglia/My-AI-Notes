{
 "cells": [
  {
   "cell_type": "code",
   "execution_count": 9,
   "metadata": {
    "pycharm": {
     "name": "#%%\n"
    }
   },
   "outputs": [],
   "source": [
    "# revisione dell'esempio 1 relativo\n",
    "# alla rete LeNet5, applicando\n",
    "# la batch normalization\n",
    "\n",
    "# importazione librerie necessarie\n",
    "import matplotlib.pyplot as plt\n",
    "from tensorflow.keras.datasets import mnist\n",
    "from tensorflow.keras.utils import to_categorical\n",
    "from tensorflow.keras.models import Sequential\n",
    "from tensorflow.keras import layers\n",
    "import tensorflow.keras as keras\n",
    "\n",
    "# download dataset e normalizzazione\n",
    "(x_train, y_train), (x_test, y_test) = mnist.load_data()\n",
    "\n",
    "# conversione in float32 da int8 del dataset originale\n",
    "x_train = x_train.astype('float32')\n",
    "x_test = x_test.astype('float32')\n",
    "\n",
    "# normalizzazione nell'intervallo [0, 1]\n",
    "x_train /= 255\n",
    "x_test /= 255\n",
    "\n",
    "# one-hot encoding delle label\n",
    "y_train = to_categorical(y_train, 10)\n",
    "y_test = to_categorical(y_test, 10)\n",
    "\n",
    "# Reshape del dataset (era un array monodimensionale)\n",
    "x_train = x_train.reshape(x_train.shape[0], 28,28,1)\n",
    "x_test = x_test.reshape(x_test.shape[0], 28,28,1)"
   ]
  },
  {
   "cell_type": "code",
   "execution_count": 10,
   "metadata": {
    "pycharm": {
     "name": "#%%\n"
    }
   },
   "outputs": [
    {
     "name": "stdout",
     "output_type": "stream",
     "text": [
      "Model: \"sequential_1\"\n",
      "_________________________________________________________________\n",
      "Layer (type)                 Output Shape              Param #   \n",
      "=================================================================\n",
      "conv2d_3 (Conv2D)            (None, 28, 28, 6)         156       \n",
      "_________________________________________________________________\n",
      "average_pooling2d_2 (Average (None, 27, 27, 6)         0         \n",
      "_________________________________________________________________\n",
      "batch_normalization_4 (Batch (None, 27, 27, 6)         24        \n",
      "_________________________________________________________________\n",
      "conv2d_4 (Conv2D)            (None, 23, 23, 16)        2416      \n",
      "_________________________________________________________________\n",
      "average_pooling2d_3 (Average (None, 11, 11, 16)        0         \n",
      "_________________________________________________________________\n",
      "batch_normalization_5 (Batch (None, 11, 11, 16)        64        \n",
      "_________________________________________________________________\n",
      "conv2d_5 (Conv2D)            (None, 7, 7, 120)         48120     \n",
      "_________________________________________________________________\n",
      "batch_normalization_6 (Batch (None, 7, 7, 120)         480       \n",
      "_________________________________________________________________\n",
      "flatten_1 (Flatten)          (None, 5880)              0         \n",
      "_________________________________________________________________\n",
      "dense_2 (Dense)              (None, 84)                494004    \n",
      "_________________________________________________________________\n",
      "batch_normalization_7 (Batch (None, 84)                336       \n",
      "_________________________________________________________________\n",
      "dense_3 (Dense)              (None, 10)                850       \n",
      "=================================================================\n",
      "Total params: 546,450\n",
      "Trainable params: 545,998\n",
      "Non-trainable params: 452\n",
      "_________________________________________________________________\n"
     ]
    }
   ],
   "source": [
    "#\n",
    "# definizione del modello LeNet-5\n",
    "#\n",
    "\n",
    "# creazione del modello \n",
    "model = Sequential()\n",
    "\n",
    "# C1 Convolutional Layer\n",
    "model.add(layers.Conv2D(6, kernel_size=(5, 5), strides=(1, 1), activation='tanh', input_shape=(28,28,1), padding='same'))\n",
    "\n",
    "# S2 Pooling Layer\n",
    "model.add(layers.AveragePooling2D(pool_size=(2, 2), strides=(1, 1), padding='valid'))\n",
    "\n",
    "# aggiunto layer di batch normalization\n",
    "model.add(layers.BatchNormalization())\n",
    "\n",
    "# C3 Convolutional Layer\n",
    "model.add(layers.Conv2D(16, kernel_size=(5, 5), strides=(1, 1), activation='tanh', padding='valid'))\n",
    "\n",
    "# S4 Pooling Layer\n",
    "model.add(layers.AveragePooling2D(pool_size=(2, 2), strides=(2, 2), padding='valid'))\n",
    "\n",
    "# aggiunto layer di batch normalization\n",
    "model.add(layers.BatchNormalization())\n",
    "\n",
    "# C5 Convolutional Layer\n",
    "model.add(layers.Conv2D(120, kernel_size=(5, 5), strides=(1, 1), activation='tanh', padding='valid'))\n",
    "\n",
    "# aggiunto layer di batch normalization\n",
    "model.add(layers.BatchNormalization())\n",
    "\n",
    "# Appiattimento dei dati dei layer convolutivi per poterli usare nei seguenti layer pienamente connessi\n",
    "model.add(layers.Flatten())\n",
    "\n",
    "# FC6 Fully Connected Layer\n",
    "model.add(layers.Dense(84, activation='tanh'))\n",
    "\n",
    "# aggiunto layer di batch normalization\n",
    "model.add(layers.BatchNormalization())\n",
    "\n",
    "# Output Layer con attivazione di tipo softmax \n",
    "model.add(layers.Dense(10, activation='softmax'))\n",
    "\n",
    "# Compile the model\n",
    "model.compile(loss=keras.losses.categorical_crossentropy, optimizer='SGD', metrics=['accuracy'])\n",
    "\n",
    "model.summary()"
   ]
  },
  {
   "cell_type": "code",
   "execution_count": 11,
   "metadata": {
    "pycharm": {
     "name": "#%%\n"
    }
   },
   "outputs": [
    {
     "name": "stdout",
     "output_type": "stream",
     "text": [
      "Epoch 1/10\n",
      "469/469 - 13s - loss: 0.2372 - accuracy: 0.9348 - val_loss: 0.1408 - val_accuracy: 0.9640\n",
      "Epoch 2/10\n",
      "469/469 - 2s - loss: 0.1058 - accuracy: 0.9724 - val_loss: 0.0791 - val_accuracy: 0.9783\n",
      "Epoch 3/10\n",
      "469/469 - 2s - loss: 0.0758 - accuracy: 0.9802 - val_loss: 0.0654 - val_accuracy: 0.9829\n",
      "Epoch 4/10\n",
      "469/469 - 2s - loss: 0.0597 - accuracy: 0.9848 - val_loss: 0.0536 - val_accuracy: 0.9858\n",
      "Epoch 5/10\n",
      "469/469 - 2s - loss: 0.0498 - accuracy: 0.9873 - val_loss: 0.0604 - val_accuracy: 0.9820\n",
      "Epoch 6/10\n",
      "469/469 - 2s - loss: 0.0424 - accuracy: 0.9894 - val_loss: 0.0434 - val_accuracy: 0.9870\n",
      "Epoch 7/10\n",
      "469/469 - 2s - loss: 0.0374 - accuracy: 0.9908 - val_loss: 0.0425 - val_accuracy: 0.9870\n",
      "Epoch 8/10\n",
      "469/469 - 2s - loss: 0.0329 - accuracy: 0.9919 - val_loss: 0.0415 - val_accuracy: 0.9874\n",
      "Epoch 9/10\n",
      "469/469 - 2s - loss: 0.0297 - accuracy: 0.9929 - val_loss: 0.0384 - val_accuracy: 0.9887\n",
      "Epoch 10/10\n",
      "469/469 - 2s - loss: 0.0266 - accuracy: 0.9933 - val_loss: 0.0354 - val_accuracy: 0.9891\n"
     ]
    }
   ],
   "source": [
    "# addestramento\n",
    "hist = model.fit(x=x_train,y=y_train, epochs=10, batch_size=128, validation_data=(x_test, y_test), verbose=2)"
   ]
  },
  {
   "cell_type": "code",
   "execution_count": 12,
   "metadata": {
    "pycharm": {
     "name": "#%%\n"
    }
   },
   "outputs": [
    {
     "name": "stdout",
     "output_type": "stream",
     "text": [
      "313/313 [==============================] - 1s 3ms/step - loss: 0.0354 - accuracy: 0.9891\n",
      "Test loss 0.0354, accuracy 98.91%\n"
     ]
    }
   ],
   "source": [
    "# valutazione del modello\n",
    "\n",
    "test_score = model.evaluate(x_test, y_test)\n",
    "print('Test loss {:.4f}, accuracy {:.2f}%'.format(test_score[0], test_score[1] * 100))"
   ]
  },
  {
   "cell_type": "code",
   "execution_count": 14,
   "metadata": {
    "pycharm": {
     "name": "#%%\n"
    }
   },
   "outputs": [
    {
     "data": {
      "text/plain": [
       "Text(0, 0.5, 'acc')"
      ]
     },
     "execution_count": 14,
     "metadata": {},
     "output_type": "execute_result"
    },
    {
     "data": {
      "image/png": "[encoded data removed]",
      "text/plain": [
       "<Figure size 432x288 with 1 Axes>"
      ]
     },
     "metadata": {
      "needs_background": "light"
     },
     "output_type": "display_data"
    }
   ],
   "source": [
    "# visualizzazione del processo di addestramento\n",
    "f, ax = plt.subplots()\n",
    "ax.plot([None] + hist.history['accuracy'], 'o-')\n",
    "ax.plot([None] + hist.history['val_accuracy'], 'x-')\n",
    "\n",
    "# disegno della legenda nella migliore posizione automaticamente: loc = 0.\n",
    "ax.legend(['Train acc', 'Validation acc'], loc = 0)\n",
    "ax.set_title('Training/Validation acc per Epoch')\n",
    "ax.set_xlabel('Epoch')\n",
    "ax.set_ylabel('acc')"
   ]
  },
  {
   "cell_type": "code",
   "execution_count": null,
   "metadata": {
    "pycharm": {
     "name": "#%%\n"
    }
   },
   "outputs": [],
   "source": [
    "\n"
   ]
  }
 ],
 "metadata": {
  "kernelspec": {
   "display_name": "Python 3",
   "language": "python",
   "name": "python3"
  },
  "language_info": {
   "codemirror_mode": {
    "name": "ipython",
    "version": 3
   },
   "file_extension": ".py",
   "mimetype": "text/x-python",
   "name": "python",
   "nbconvert_exporter": "python",
   "pygments_lexer": "ipython3",
   "version": "3.8.8"
  }
 },
 "nbformat": 4,
 "nbformat_minor": 1
}
