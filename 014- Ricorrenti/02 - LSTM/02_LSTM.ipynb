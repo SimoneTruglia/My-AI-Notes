{
  "cells": [
    {
      "cell_type": "code",
      "execution_count": 5,
      "metadata": {
        "pycharm": {
          "name": "#%%\n"
        },
        "id": "0Tcs8vdUpD_T"
      },
      "outputs": [],
      "source": [
        "import pandas as pd\n",
        "from sklearn.preprocessing import StandardScaler\n",
        "from sklearn.metrics import accuracy_score\n",
        "import numpy as np\n",
        "import tensorflow as tf\n",
        "import matplotlib.pyplot as plt"
      ]
    },
    {
      "cell_type": "code",
      "execution_count": 8,
      "metadata": {
        "pycharm": {
          "name": "#%%\n"
        },
        "id": "QvfCSjsppD_W"
      },
      "outputs": [],
      "source": [
        "data1 = pd.read_csv('data/data1.txt')\n",
        "data2 = pd.read_csv('data/data2.txt')\n",
        "data3 = pd.read_csv('data/data3.txt')"
      ]
    },
    {
      "cell_type": "code",
      "execution_count": 9,
      "metadata": {
        "pycharm": {
          "name": "#%%\n"
        },
        "colab": {
          "base_uri": "https://localhost:8080/"
        },
        "id": "MaWO5IqhpD_X",
        "outputId": "7e28d9bd-0834-46c6-b671-70805dbf15be"
      },
      "outputs": [
        {
          "output_type": "stream",
          "name": "stdout",
          "text": [
            "data1 is from  2015-02-02 14:19:00  to  2015-02-04 10:43:00\n",
            "data2 is from  2015-02-11 14:48:00  to  2015-02-18 09:19:00\n",
            "data3 is from  2015-02-04 17:51:00  to  2015-02-10 09:33:00\n"
          ]
        }
      ],
      "source": [
        "# data.iloc[0] represent the first example on the dataset\n",
        "# data.iloc[0].date get the date from the first example\n",
        "\n",
        "# data.iloc[-1] represent the last example on the dataset\n",
        "# data.iloc[0].date get the date from the last example\n",
        "\n",
        "print(\"data1 is from \", data1.iloc[0].date, \" to \", data1.iloc[-1].date)\n",
        "print(\"data2 is from \", data2.iloc[0].date, \" to \", data2.iloc[-1].date)\n",
        "print(\"data3 is from \", data3.iloc[0].date, \" to \", data3.iloc[-1].date)"
      ]
    },
    {
      "cell_type": "code",
      "source": [
        "data_all = pd.concat([data1, data2, data3])\n",
        "print(\"data_all is from \", data_all.iloc[0].date, \" to \", data_all.iloc[-1].date)"
      ],
      "metadata": {
        "colab": {
          "base_uri": "https://localhost:8080/"
        },
        "id": "EmwsxyI6r7oO",
        "outputId": "6050ed88-c07b-4d12-e23f-9aea6846a060"
      },
      "execution_count": 11,
      "outputs": [
        {
          "output_type": "stream",
          "name": "stdout",
          "text": [
            "data_all is from  2015-02-02 14:19:00  to  2015-02-10 09:33:00\n"
          ]
        }
      ]
    },
    {
      "cell_type": "code",
      "execution_count": 12,
      "metadata": {
        "pycharm": {
          "name": "#%%\n"
        },
        "colab": {
          "base_uri": "https://localhost:8080/",
          "height": 237
        },
        "id": "bxJ_8vhkpD_Y",
        "outputId": "c7dde0c7-00b5-4c0c-eb87-cf8fd14a4030"
      },
      "outputs": [
        {
          "output_type": "execute_result",
          "data": {
            "text/plain": [
              "                     Temperature  Humidity       Light         CO2  \\\n",
              "date                                                                 \n",
              "2015-02-02 14:19:00      23.7000    26.272  585.200000  749.200000   \n",
              "2015-02-02 14:19:59      23.7180    26.290  578.400000  760.400000   \n",
              "2015-02-02 14:21:00      23.7300    26.230  572.666667  769.666667   \n",
              "2015-02-02 14:22:00      23.7225    26.125  493.750000  774.750000   \n",
              "2015-02-02 14:23:00      23.7540    26.200  488.600000  779.000000   \n",
              "\n",
              "                     HumidityRatio  Notte  Mattina  Mezzogiorno  Pomeriggio  \\\n",
              "date                                                                          \n",
              "2015-02-02 14:19:00       0.004764    0.0      0.0          1.0         0.0   \n",
              "2015-02-02 14:19:59       0.004773    0.0      0.0          1.0         0.0   \n",
              "2015-02-02 14:21:00       0.004765    0.0      0.0          1.0         0.0   \n",
              "2015-02-02 14:22:00       0.004744    0.0      0.0          1.0         0.0   \n",
              "2015-02-02 14:23:00       0.004767    0.0      0.0          1.0         0.0   \n",
              "\n",
              "                     Sera  Occupato  \n",
              "date                                 \n",
              "2015-02-02 14:19:00   0.0         1  \n",
              "2015-02-02 14:19:59   0.0         1  \n",
              "2015-02-02 14:21:00   0.0         1  \n",
              "2015-02-02 14:22:00   0.0         1  \n",
              "2015-02-02 14:23:00   0.0         1  "
            ],
            "text/html": [
              "\n",
              "  <div id=\"df-322aecdd-bcb1-4394-9bc9-a264e1234926\">\n",
              "    <div class=\"colab-df-container\">\n",
              "      <div>\n",
              "<style scoped>\n",
              "    .dataframe tbody tr th:only-of-type {\n",
              "        vertical-align: middle;\n",
              "    }\n",
              "\n",
              "    .dataframe tbody tr th {\n",
              "        vertical-align: top;\n",
              "    }\n",
              "\n",
              "    .dataframe thead th {\n",
              "        text-align: right;\n",
              "    }\n",
              "</style>\n",
              "<table border=\"1\" class=\"dataframe\">\n",
              "  <thead>\n",
              "    <tr style=\"text-align: right;\">\n",
              "      <th></th>\n",
              "      <th>Temperature</th>\n",
              "      <th>Humidity</th>\n",
              "      <th>Light</th>\n",
              "      <th>CO2</th>\n",
              "      <th>HumidityRatio</th>\n",
              "      <th>Notte</th>\n",
              "      <th>Mattina</th>\n",
              "      <th>Mezzogiorno</th>\n",
              "      <th>Pomeriggio</th>\n",
              "      <th>Sera</th>\n",
              "      <th>Occupato</th>\n",
              "    </tr>\n",
              "    <tr>\n",
              "      <th>date</th>\n",
              "      <th></th>\n",
              "      <th></th>\n",
              "      <th></th>\n",
              "      <th></th>\n",
              "      <th></th>\n",
              "      <th></th>\n",
              "      <th></th>\n",
              "      <th></th>\n",
              "      <th></th>\n",
              "      <th></th>\n",
              "      <th></th>\n",
              "    </tr>\n",
              "  </thead>\n",
              "  <tbody>\n",
              "    <tr>\n",
              "      <th>2015-02-02 14:19:00</th>\n",
              "      <td>23.7000</td>\n",
              "      <td>26.272</td>\n",
              "      <td>585.200000</td>\n",
              "      <td>749.200000</td>\n",
              "      <td>0.004764</td>\n",
              "      <td>0.0</td>\n",
              "      <td>0.0</td>\n",
              "      <td>1.0</td>\n",
              "      <td>0.0</td>\n",
              "      <td>0.0</td>\n",
              "      <td>1</td>\n",
              "    </tr>\n",
              "    <tr>\n",
              "      <th>2015-02-02 14:19:59</th>\n",
              "      <td>23.7180</td>\n",
              "      <td>26.290</td>\n",
              "      <td>578.400000</td>\n",
              "      <td>760.400000</td>\n",
              "      <td>0.004773</td>\n",
              "      <td>0.0</td>\n",
              "      <td>0.0</td>\n",
              "      <td>1.0</td>\n",
              "      <td>0.0</td>\n",
              "      <td>0.0</td>\n",
              "      <td>1</td>\n",
              "    </tr>\n",
              "    <tr>\n",
              "      <th>2015-02-02 14:21:00</th>\n",
              "      <td>23.7300</td>\n",
              "      <td>26.230</td>\n",
              "      <td>572.666667</td>\n",
              "      <td>769.666667</td>\n",
              "      <td>0.004765</td>\n",
              "      <td>0.0</td>\n",
              "      <td>0.0</td>\n",
              "      <td>1.0</td>\n",
              "      <td>0.0</td>\n",
              "      <td>0.0</td>\n",
              "      <td>1</td>\n",
              "    </tr>\n",
              "    <tr>\n",
              "      <th>2015-02-02 14:22:00</th>\n",
              "      <td>23.7225</td>\n",
              "      <td>26.125</td>\n",
              "      <td>493.750000</td>\n",
              "      <td>774.750000</td>\n",
              "      <td>0.004744</td>\n",
              "      <td>0.0</td>\n",
              "      <td>0.0</td>\n",
              "      <td>1.0</td>\n",
              "      <td>0.0</td>\n",
              "      <td>0.0</td>\n",
              "      <td>1</td>\n",
              "    </tr>\n",
              "    <tr>\n",
              "      <th>2015-02-02 14:23:00</th>\n",
              "      <td>23.7540</td>\n",
              "      <td>26.200</td>\n",
              "      <td>488.600000</td>\n",
              "      <td>779.000000</td>\n",
              "      <td>0.004767</td>\n",
              "      <td>0.0</td>\n",
              "      <td>0.0</td>\n",
              "      <td>1.0</td>\n",
              "      <td>0.0</td>\n",
              "      <td>0.0</td>\n",
              "      <td>1</td>\n",
              "    </tr>\n",
              "  </tbody>\n",
              "</table>\n",
              "</div>\n",
              "      <button class=\"colab-df-convert\" onclick=\"convertToInteractive('df-322aecdd-bcb1-4394-9bc9-a264e1234926')\"\n",
              "              title=\"Convert this dataframe to an interactive table.\"\n",
              "              style=\"display:none;\">\n",
              "        \n",
              "  <svg xmlns=\"http://www.w3.org/2000/svg\" height=\"24px\"viewBox=\"0 0 24 24\"\n",
              "       width=\"24px\">\n",
              "    <path d=\"M0 0h24v24H0V0z\" fill=\"none\"/>\n",
              "    <path d=\"M18.56 5.44l.94 2.06.94-2.06 2.06-.94-2.06-.94-.94-2.06-.94 2.06-2.06.94zm-11 1L8.5 8.5l.94-2.06 2.06-.94-2.06-.94L8.5 2.5l-.94 2.06-2.06.94zm10 10l.94 2.06.94-2.06 2.06-.94-2.06-.94-.94-2.06-.94 2.06-2.06.94z\"/><path d=\"M17.41 7.96l-1.37-1.37c-.4-.4-.92-.59-1.43-.59-.52 0-1.04.2-1.43.59L10.3 9.45l-7.72 7.72c-.78.78-.78 2.05 0 2.83L4 21.41c.39.39.9.59 1.41.59.51 0 1.02-.2 1.41-.59l7.78-7.78 2.81-2.81c.8-.78.8-2.07 0-2.86zM5.41 20L4 18.59l7.72-7.72 1.47 1.35L5.41 20z\"/>\n",
              "  </svg>\n",
              "      </button>\n",
              "      \n",
              "  <style>\n",
              "    .colab-df-container {\n",
              "      display:flex;\n",
              "      flex-wrap:wrap;\n",
              "      gap: 12px;\n",
              "    }\n",
              "\n",
              "    .colab-df-convert {\n",
              "      background-color: #E8F0FE;\n",
              "      border: none;\n",
              "      border-radius: 50%;\n",
              "      cursor: pointer;\n",
              "      display: none;\n",
              "      fill: #1967D2;\n",
              "      height: 32px;\n",
              "      padding: 0 0 0 0;\n",
              "      width: 32px;\n",
              "    }\n",
              "\n",
              "    .colab-df-convert:hover {\n",
              "      background-color: #E2EBFA;\n",
              "      box-shadow: 0px 1px 2px rgba(60, 64, 67, 0.3), 0px 1px 3px 1px rgba(60, 64, 67, 0.15);\n",
              "      fill: #174EA6;\n",
              "    }\n",
              "\n",
              "    [theme=dark] .colab-df-convert {\n",
              "      background-color: #3B4455;\n",
              "      fill: #D2E3FC;\n",
              "    }\n",
              "\n",
              "    [theme=dark] .colab-df-convert:hover {\n",
              "      background-color: #434B5C;\n",
              "      box-shadow: 0px 1px 3px 1px rgba(0, 0, 0, 0.15);\n",
              "      filter: drop-shadow(0px 1px 2px rgba(0, 0, 0, 0.3));\n",
              "      fill: #FFFFFF;\n",
              "    }\n",
              "  </style>\n",
              "\n",
              "      <script>\n",
              "        const buttonEl =\n",
              "          document.querySelector('#df-322aecdd-bcb1-4394-9bc9-a264e1234926 button.colab-df-convert');\n",
              "        buttonEl.style.display =\n",
              "          google.colab.kernel.accessAllowed ? 'block' : 'none';\n",
              "\n",
              "        async function convertToInteractive(key) {\n",
              "          const element = document.querySelector('#df-322aecdd-bcb1-4394-9bc9-a264e1234926');\n",
              "          const dataTable =\n",
              "            await google.colab.kernel.invokeFunction('convertToInteractive',\n",
              "                                                     [key], {});\n",
              "          if (!dataTable) return;\n",
              "\n",
              "          const docLinkHtml = 'Like what you see? Visit the ' +\n",
              "            '<a target=\"_blank\" href=https://colab.research.google.com/notebooks/data_table.ipynb>data table notebook</a>'\n",
              "            + ' to learn more about interactive tables.';\n",
              "          element.innerHTML = '';\n",
              "          dataTable['output_type'] = 'display_data';\n",
              "          await google.colab.output.renderOutput(dataTable, element);\n",
              "          const docLink = document.createElement('div');\n",
              "          docLink.innerHTML = docLinkHtml;\n",
              "          element.appendChild(docLink);\n",
              "        }\n",
              "      </script>\n",
              "    </div>\n",
              "  </div>\n",
              "  "
            ]
          },
          "metadata": {},
          "execution_count": 12
        }
      ],
      "source": [
        "data_all['date'] = pd.to_datetime((data_all['date']))\n",
        "\n",
        "data_all['Notte'] = 0.\n",
        "data_all['Mattina'] = 0.\n",
        "data_all['Mezzogiorno'] = 0.\n",
        "data_all['Pomeriggio'] = 0.\n",
        "data_all['Sera'] = 0.\n",
        "\n",
        "data_all.loc[(data_all['date'].dt.hour < 8) | (data_all['date'].dt.hour > 21), 'Notte'] = 1.\n",
        "data_all.loc[(data_all['date'].dt.hour <= 12) & (data_all['date'].dt.hour >= 8), 'Mattina'] = 1.\n",
        "data_all.loc[(data_all['date'].dt.hour > 12) & (data_all['date'].dt.hour <= 15), 'Mezzogiorno'] = 1.\n",
        "data_all.loc[(data_all['date'].dt.hour > 15) & (data_all['date'].dt.hour <= 18), 'Pomeriggio'] = 1.\n",
        "data_all.loc[(data_all['date'].dt.hour > 18) & (data_all['date'].dt.hour <= 21), 'Sera'] = 1.\n",
        "\n",
        "data_all.drop_duplicates(inplace=True)\n",
        "\n",
        "data_all['Occupato'] = data_all['Occupancy']\n",
        "del data_all['Occupancy']\n",
        "\n",
        "data_all.set_index('date', inplace=True)\n",
        "\n",
        "data_all.head()"
      ]
    },
    {
      "cell_type": "code",
      "execution_count": 13,
      "metadata": {
        "pycharm": {
          "name": "#%%\n"
        },
        "colab": {
          "base_uri": "https://localhost:8080/"
        },
        "id": "2vjPEeTipD_Y",
        "outputId": "d283f12a-2830-429e-9cd1-bc0469f9c8c1"
      },
      "outputs": [
        {
          "output_type": "stream",
          "name": "stdout",
          "text": [
            "<class 'pandas.core.frame.DataFrame'>\n",
            "<class 'numpy.ndarray'>\n"
          ]
        }
      ],
      "source": [
        "print(type(data_all))\n",
        "\n",
        "# creo un oggeto np array associato al dataset\n",
        "dataset = data_all.values\n",
        "\n",
        "print(type(dataset))"
      ]
    },
    {
      "cell_type": "code",
      "execution_count": 14,
      "metadata": {
        "pycharm": {
          "name": "#%%\n"
        },
        "id": "t7h21vlzpD_Z"
      },
      "outputs": [],
      "source": [
        "split_point = int(len(dataset) * 0.95)\n",
        "\n",
        "x_train = dataset[:split_point,:-1]\n",
        "y_train = dataset[:split_point,-1]\n",
        "\n",
        "x_test = dataset[split_point:,:-1]\n",
        "y_test = dataset[split_point:,-1]"
      ]
    },
    {
      "cell_type": "code",
      "execution_count": 15,
      "metadata": {
        "pycharm": {
          "name": "#%%\n"
        },
        "id": "E8zt6ENypD_Z"
      },
      "outputs": [],
      "source": [
        "scaler = StandardScaler()\n",
        "scaler.fit(x_train)\n",
        "\n",
        "x_train_std = scaler.transform(x_train)\n",
        "x_test_std = scaler.transform(x_test)"
      ]
    },
    {
      "cell_type": "code",
      "source": [
        "print(\"dataset originale:\", x_train_std.shape)\n",
        "print(x_test_std.shape)"
      ],
      "metadata": {
        "colab": {
          "base_uri": "https://localhost:8080/"
        },
        "id": "esU7_uM4sLr6",
        "outputId": "5a536adc-1853-455a-c367-fd5b81ccf5b6"
      },
      "execution_count": 19,
      "outputs": [
        {
          "output_type": "stream",
          "name": "stdout",
          "text": [
            "dataset originale: (19532, 10)\n",
            "(1028, 10)\n"
          ]
        }
      ]
    },
    {
      "cell_type": "code",
      "execution_count": 21,
      "metadata": {
        "pycharm": {
          "name": "#%%\n"
        },
        "id": "ZYUkRJ5zpD_a"
      },
      "outputs": [],
      "source": [
        "def get_time_series(features, labels, steps_back):\n",
        "    assert len(features) == len(labels)\n",
        "    assert steps_back > 0\n",
        "    ts_features = []\n",
        "    ts_labels = []\n",
        "    for i in range(steps_back, len(features) + 1 ):\n",
        "        ts_features.append(features[i - steps_back:i])\n",
        "        ts_labels.append(labels[i - 1])\n",
        "    return np.asarray(ts_features), np.asarray(ts_labels)\n",
        "\n",
        "steps_back = 60\n",
        "x_train_ts, y_train_ts = get_time_series(x_train_std, y_train, steps_back)\n",
        "x_test_ts, y_test_ts = get_time_series(x_test_std, y_test, steps_back)"
      ]
    },
    {
      "cell_type": "code",
      "source": [
        "print(x_train_ts.shape)\n",
        "print(y_train_ts.shape)"
      ],
      "metadata": {
        "colab": {
          "base_uri": "https://localhost:8080/"
        },
        "id": "8JC7Su-EsQlY",
        "outputId": "3d4c94af-07b7-44c5-c2b5-47396b3efff5"
      },
      "execution_count": 22,
      "outputs": [
        {
          "output_type": "stream",
          "name": "stdout",
          "text": [
            "(19473, 60, 10)\n",
            "(19473,)\n"
          ]
        }
      ]
    },
    {
      "cell_type": "code",
      "execution_count": 17,
      "metadata": {
        "pycharm": {
          "name": "#%%\n"
        },
        "id": "rPGeuu9VpD_a"
      },
      "outputs": [],
      "source": [
        "assert np.all(x_train_ts[0][0] == x_train_std[0])\n",
        "assert y_train_ts[0] == y_train[steps_back]\n",
        "\n",
        "assert np.all(x_train_ts[42][0] == x_train_std[42])\n",
        "assert y_train_ts[42] == y_train[42 + steps_back]\n",
        "\n",
        "assert np.all(x_test_ts[0][0] == x_test_std[0])\n",
        "assert y_test_ts[0] == y_test[steps_back]\n",
        "\n",
        "assert np.all(x_test_ts[42][0] == x_test_std[42])\n",
        "assert y_test_ts[42] == y_test[42 + steps_back]"
      ]
    },
    {
      "cell_type": "markdown",
      "source": [
        "L'analisi dimensionale è la stessa fatto per il SimpleRNN\n",
        "\n",
        "con la differenza principale con la LSTM abbiamo 5 nuovi blocchi:\n",
        "\n",
        "1. Cell State\n",
        "2. Gate di Input\n",
        "3. Gate di Output\n",
        "4. Gate di Forget\n",
        "5. Gate di Update\n",
        "\n",
        "tra questi, il Cell State è l'unico che non ha bisogno di paramentri perché fa solo somme e moltipicazioni tra valori \"rozzi\", tutti gli stati hanno una matrice di pesi associata, quindi con le LTSTM si hanno 4 volte il numero di parametri che si avevano con le RNN.\n",
        "\n",
        "Con le RNN avevamo un numero di parametri pari alla somma di:\n",
        "- numero parametri W(input) = (n°celle*n°features) \n",
        "- numero parametri W(ricorrent) =(n°celle x n°celle)\n",
        "- numero prametri B = (n°celle x 1)\n",
        "\n",
        "Con le LSTM tutto sarà moltiplicato per 4:\n",
        "- numero parametri W(input) = 4 x (n°celle*n°features) \n",
        "- 4 x numero parametri W(ricorrent) = 4 x (n°celle x n°celle)\n",
        "- numero prametri B = 4 x (n°celle x 1)\n",
        "\n",
        "\n",
        "Nell'esempio sotto abbiamo 4 celle e 10 features, da cui:\n",
        "- numero parametri W(input) = 4x(4x10) = 160\n",
        "- 4 x numero parametri W(ricorrent) = 4x(4x4) = 64\n",
        "- numero prametri B = 4x4 = 16\n",
        "\n",
        "**Per un totale di** 240\n",
        "\n",
        "A cui si sommano i 5 parametri della dense con un solo nodo (4 coefficienti + 1 bias)\n",
        "\n",
        "**Totale** = 240 + 5 = 245\n",
        "\n"
      ],
      "metadata": {
        "id": "q1wE7hVlsauE"
      }
    },
    {
      "cell_type": "code",
      "execution_count": 26,
      "metadata": {
        "pycharm": {
          "name": "#%%\n"
        },
        "colab": {
          "base_uri": "https://localhost:8080/"
        },
        "id": "Ki_12UBNpD_a",
        "outputId": "419e2433-1bff-4aa2-b2c0-e3327a4f097b"
      },
      "outputs": [
        {
          "output_type": "stream",
          "name": "stdout",
          "text": [
            "Model: \"model_3\"\n",
            "_________________________________________________________________\n",
            " Layer (type)                Output Shape              Param #   \n",
            "=================================================================\n",
            " input_4 (InputLayer)        [(None, 60, 10)]          0         \n",
            "                                                                 \n",
            " lstm_3 (LSTM)               (None, 4)                 240       \n",
            "                                                                 \n",
            " dense_3 (Dense)             (None, 1)                 5         \n",
            "                                                                 \n",
            "=================================================================\n",
            "Total params: 245\n",
            "Trainable params: 245\n",
            "Non-trainable params: 0\n",
            "_________________________________________________________________\n"
          ]
        }
      ],
      "source": [
        "input = tf.keras.layers.Input(shape=x_train_ts.shape[1:])\n",
        "\n",
        "rnn = tf.keras.layers.LSTM(units=4, dropout=0.5)(input)\n",
        "output = tf.keras.layers.Dense(1, activation='sigmoid')(rnn)\n",
        "\n",
        "model = tf.keras.models.Model(\n",
        "    inputs=input,\n",
        "    outputs=output,\n",
        ")\n",
        "\n",
        "model.compile(\n",
        "    optimizer=tf.keras.optimizers.Adam(learning_rate=0.003),\n",
        "    loss=tf.keras.losses.MeanSquaredError(),\n",
        "    metrics=tf.keras.metrics.BinaryAccuracy()\n",
        ")\n",
        "\n",
        "model.summary()"
      ]
    },
    {
      "cell_type": "code",
      "execution_count": 27,
      "metadata": {
        "pycharm": {
          "name": "#%%\n"
        },
        "colab": {
          "base_uri": "https://localhost:8080/"
        },
        "id": "2Mx45TulpD_b",
        "outputId": "f443013c-23f8-4455-b080-306e117617fc"
      },
      "outputs": [
        {
          "output_type": "stream",
          "name": "stdout",
          "text": [
            "Epoch 1/10\n",
            "77/77 - 8s - loss: 0.1305 - binary_accuracy: 0.8619 - val_loss: 0.0855 - val_binary_accuracy: 0.8927 - 8s/epoch - 104ms/step\n",
            "Epoch 2/10\n",
            "77/77 - 2s - loss: 0.0475 - binary_accuracy: 0.9630 - val_loss: 0.0867 - val_binary_accuracy: 0.9040 - 2s/epoch - 32ms/step\n",
            "Epoch 3/10\n",
            "77/77 - 1s - loss: 0.0264 - binary_accuracy: 0.9749 - val_loss: 0.0542 - val_binary_accuracy: 0.9432 - 1s/epoch - 18ms/step\n",
            "Epoch 4/10\n",
            "77/77 - 1s - loss: 0.0217 - binary_accuracy: 0.9775 - val_loss: 0.0699 - val_binary_accuracy: 0.9236 - 1s/epoch - 18ms/step\n",
            "Epoch 5/10\n",
            "77/77 - 1s - loss: 0.0189 - binary_accuracy: 0.9806 - val_loss: 0.0637 - val_binary_accuracy: 0.9319 - 1s/epoch - 18ms/step\n",
            "Epoch 6/10\n",
            "77/77 - 1s - loss: 0.0179 - binary_accuracy: 0.9803 - val_loss: 0.0226 - val_binary_accuracy: 0.9701 - 1s/epoch - 18ms/step\n",
            "Epoch 7/10\n",
            "77/77 - 1s - loss: 0.0171 - binary_accuracy: 0.9812 - val_loss: 0.0271 - val_binary_accuracy: 0.9649 - 1s/epoch - 18ms/step\n",
            "Epoch 8/10\n",
            "77/77 - 2s - loss: 0.0169 - binary_accuracy: 0.9807 - val_loss: 0.0627 - val_binary_accuracy: 0.9319 - 2s/epoch - 24ms/step\n",
            "Epoch 9/10\n",
            "77/77 - 1s - loss: 0.0159 - binary_accuracy: 0.9824 - val_loss: 0.0207 - val_binary_accuracy: 0.9742 - 1s/epoch - 18ms/step\n",
            "Epoch 10/10\n",
            "77/77 - 1s - loss: 0.0163 - binary_accuracy: 0.9814 - val_loss: 0.0582 - val_binary_accuracy: 0.9370 - 1s/epoch - 18ms/step\n"
          ]
        }
      ],
      "source": [
        "history = model.fit(\n",
        "    x_train_ts,\n",
        "    y_train_ts,\n",
        "    batch_size=256,\n",
        "    epochs=10,\n",
        "    validation_data=(\n",
        "        x_test_ts,\n",
        "        y_test_ts\n",
        "    ),\n",
        "    verbose=2\n",
        ")"
      ]
    },
    {
      "cell_type": "code",
      "execution_count": 28,
      "metadata": {
        "pycharm": {
          "name": "#%%\n"
        },
        "colab": {
          "base_uri": "https://localhost:8080/",
          "height": 611
        },
        "id": "tRj7xUvopD_b",
        "outputId": "e0ece4dc-d1af-4998-c60f-35e4d0966e8a"
      },
      "outputs": [
        {
          "output_type": "display_data",
          "data": {
            "text/plain": [
              "<Figure size 800x300 with 1 Axes>"
            ],
            "image/png": "[encoded data removed]"
          },
          "metadata": {}
        },
        {
          "output_type": "display_data",
          "data": {
            "text/plain": [
              "<Figure size 800x300 with 1 Axes>"
            ],
            "image/png": "[encoded data removed]"
          },
          "metadata": {}
        }
      ],
      "source": [
        "plt.figure(figsize=(8,3))\n",
        "plt.title('Loss')\n",
        "plt.plot(history.history['loss'], label='loss')\n",
        "plt.plot(history.history['val_loss'], label='validation loss')\n",
        "plt.legend()\n",
        "plt.show()\n",
        "\n",
        "plt.figure(figsize=(8,3))\n",
        "plt.title('Accuracy')\n",
        "plt.plot(history.history['binary_accuracy'], label='accuracy')\n",
        "plt.plot(history.history['val_binary_accuracy'], label='validation accuracy')\n",
        "plt.legend()\n",
        "plt.show()"
      ]
    },
    {
      "cell_type": "code",
      "execution_count": 29,
      "metadata": {
        "pycharm": {
          "name": "#%%\n"
        },
        "colab": {
          "base_uri": "https://localhost:8080/"
        },
        "id": "d0nHcefPpD_c",
        "outputId": "d38ed4be-b9b2-45ec-db0b-0d8e52390c5b"
      },
      "outputs": [
        {
          "output_type": "stream",
          "name": "stdout",
          "text": [
            "1/1 [==============================] - 0s 322ms/step\n",
            "[[0.89520246]] 0.0\n"
          ]
        }
      ],
      "source": [
        "print(\n",
        "    model.predict(x_test_ts[42:43]),\n",
        "    y_test_ts[42]\n",
        ")"
      ]
    },
    {
      "cell_type": "code",
      "execution_count": 30,
      "metadata": {
        "pycharm": {
          "name": "#%%\n"
        },
        "colab": {
          "base_uri": "https://localhost:8080/"
        },
        "id": "qo8I9g4xpD_c",
        "outputId": "74237ca9-4925-4359-b82a-a4f18fa836bc"
      },
      "outputs": [
        {
          "output_type": "stream",
          "name": "stdout",
          "text": [
            "1/1 [==============================] - 0s 28ms/step\n",
            "[[0.0384404]] 0.0\n"
          ]
        }
      ],
      "source": [
        "print(\n",
        "    model.predict(x_test_ts[114:115]),\n",
        "    y_test_ts[114]\n",
        ")"
      ]
    },
    {
      "cell_type": "code",
      "execution_count": 31,
      "metadata": {
        "pycharm": {
          "name": "#%%\n"
        },
        "colab": {
          "base_uri": "https://localhost:8080/"
        },
        "id": "UbGO-CkcpD_c",
        "outputId": "2ea90087-a882-4269-f737-2d01bc918e94"
      },
      "outputs": [
        {
          "output_type": "stream",
          "name": "stdout",
          "text": [
            "31/31 [==============================] - 0s 3ms/step\n",
            "0.9370485036119711\n"
          ]
        }
      ],
      "source": [
        "preds = model.predict(x_test_ts)\n",
        "preds = preds[:, 0]\n",
        "preds[preds > 0.5] = 1\n",
        "preds[preds < 1] = 0\n",
        "print(accuracy_score(y_test_ts, preds))"
      ]
    }
  ],
  "metadata": {
    "kernelspec": {
      "display_name": "Python 3",
      "language": "python",
      "name": "python3"
    },
    "language_info": {
      "codemirror_mode": {
        "name": "ipython",
        "version": 3
      },
      "file_extension": ".py",
      "mimetype": "text/x-python",
      "name": "python",
      "nbconvert_exporter": "python",
      "pygments_lexer": "ipython3",
      "version": "3.8.8"
    },
    "colab": {
      "provenance": []
    }
  },
  "nbformat": 4,
  "nbformat_minor": 0
}