{
  "cells": [
    {
      "cell_type": "code",
      "execution_count": 71,
      "metadata": {
        "id": "96tMNZlmjZUV"
      },
      "outputs": [],
      "source": [
        "import pandas as pd\n",
        "from sklearn.preprocessing import StandardScaler\n",
        "from sklearn.metrics import accuracy_score\n",
        "import numpy as np\n",
        "import tensorflow as tf\n",
        "import matplotlib.pyplot as plt"
      ]
    },
    {
      "cell_type": "code",
      "execution_count": 72,
      "metadata": {
        "pycharm": {
          "name": "#%%\n"
        },
        "id": "8nX5HeWKjZUc"
      },
      "outputs": [],
      "source": [
        "data1 = pd.read_csv('data/datatest.txt')\n",
        "data2 = pd.read_csv('data/datatraining.txt')\n",
        "data3 = pd.read_csv('data/datatest2.txt')"
      ]
    },
    {
      "cell_type": "code",
      "execution_count": 73,
      "metadata": {
        "pycharm": {
          "name": "#%%\n"
        },
        "id": "F8Uw7xtpjZUc",
        "outputId": "295ccf40-ada9-46da-ef91-0f8acc423fdc",
        "colab": {
          "base_uri": "https://localhost:8080/"
        }
      },
      "outputs": [
        {
          "output_type": "stream",
          "name": "stdout",
          "text": [
            "data1 is from  2015-02-02 14:19:00  to  2015-02-04 10:43:00\n",
            "data2 is from  2015-02-04 17:51:00  to  2015-02-10 09:33:00\n",
            "data3 is from  2015-02-11 14:48:00  to  2015-02-18 09:19:00\n"
          ]
        }
      ],
      "source": [
        "# data.iloc[0] represent the first example on the dataset\n",
        "# data.iloc[0].date get the date from the first example\n",
        "\n",
        "# data.iloc[-1] represent the last example on the dataset\n",
        "# data.iloc[0].date get the date from the last example\n",
        "\n",
        "print(\"data1 is from \", data1.iloc[0].date, \" to \", data1.iloc[-1].date)\n",
        "print(\"data2 is from \", data2.iloc[0].date, \" to \", data2.iloc[-1].date)\n",
        "print(\"data3 is from \", data3.iloc[0].date, \" to \", data3.iloc[-1].date)\n"
      ]
    },
    {
      "cell_type": "markdown",
      "source": [
        "Just contact of all the separated dataframe (data1, data2 and data3) on a single dataframe"
      ],
      "metadata": {
        "id": "bup2cN6FbAGV"
      }
    },
    {
      "cell_type": "code",
      "source": [
        "data_all = pd.concat([data1, data2, data3])\n",
        "print(\"data_all is from \", data_all.iloc[0].date, \" to \", data_all.iloc[-1].date)"
      ],
      "metadata": {
        "colab": {
          "base_uri": "https://localhost:8080/"
        },
        "id": "jhWcMgl5a-9Z",
        "outputId": "11fef2ad-7711-4122-8329-2708543fc116"
      },
      "execution_count": 74,
      "outputs": [
        {
          "output_type": "stream",
          "name": "stdout",
          "text": [
            "data_all is from  2015-02-02 14:19:00  to  2015-02-18 09:19:00\n"
          ]
        }
      ]
    },
    {
      "cell_type": "code",
      "execution_count": 75,
      "metadata": {
        "pycharm": {
          "name": "#%%\n"
        },
        "id": "9udagCM_jZUd",
        "outputId": "bed08f67-8f48-408e-e6da-c2e1275112f0",
        "colab": {
          "base_uri": "https://localhost:8080/",
          "height": 237
        }
      },
      "outputs": [
        {
          "output_type": "execute_result",
          "data": {
            "text/plain": [
              "                     Temperature  Humidity       Light         CO2  \\\n",
              "date                                                                 \n",
              "2015-02-02 14:19:00      23.7000    26.272  585.200000  749.200000   \n",
              "2015-02-02 14:19:59      23.7180    26.290  578.400000  760.400000   \n",
              "2015-02-02 14:21:00      23.7300    26.230  572.666667  769.666667   \n",
              "2015-02-02 14:22:00      23.7225    26.125  493.750000  774.750000   \n",
              "2015-02-02 14:23:00      23.7540    26.200  488.600000  779.000000   \n",
              "\n",
              "                     HumidityRatio  Notte  Mattina  Mezzogiorno  Pomeriggio  \\\n",
              "date                                                                          \n",
              "2015-02-02 14:19:00       0.004764    0.0      0.0          1.0         0.0   \n",
              "2015-02-02 14:19:59       0.004773    0.0      0.0          1.0         0.0   \n",
              "2015-02-02 14:21:00       0.004765    0.0      0.0          1.0         0.0   \n",
              "2015-02-02 14:22:00       0.004744    0.0      0.0          1.0         0.0   \n",
              "2015-02-02 14:23:00       0.004767    0.0      0.0          1.0         0.0   \n",
              "\n",
              "                     Sera  Occupato  \n",
              "date                                 \n",
              "2015-02-02 14:19:00   0.0         1  \n",
              "2015-02-02 14:19:59   0.0         1  \n",
              "2015-02-02 14:21:00   0.0         1  \n",
              "2015-02-02 14:22:00   0.0         1  \n",
              "2015-02-02 14:23:00   0.0         1  "
            ],
            "text/html": [
              "\n",
              "  <div id=\"df-4a23de39-538e-45c3-8a3b-788b620a96cd\">\n",
              "    <div class=\"colab-df-container\">\n",
              "      <div>\n",
              "<style scoped>\n",
              "    .dataframe tbody tr th:only-of-type {\n",
              "        vertical-align: middle;\n",
              "    }\n",
              "\n",
              "    .dataframe tbody tr th {\n",
              "        vertical-align: top;\n",
              "    }\n",
              "\n",
              "    .dataframe thead th {\n",
              "        text-align: right;\n",
              "    }\n",
              "</style>\n",
              "<table border=\"1\" class=\"dataframe\">\n",
              "  <thead>\n",
              "    <tr style=\"text-align: right;\">\n",
              "      <th></th>\n",
              "      <th>Temperature</th>\n",
              "      <th>Humidity</th>\n",
              "      <th>Light</th>\n",
              "      <th>CO2</th>\n",
              "      <th>HumidityRatio</th>\n",
              "      <th>Notte</th>\n",
              "      <th>Mattina</th>\n",
              "      <th>Mezzogiorno</th>\n",
              "      <th>Pomeriggio</th>\n",
              "      <th>Sera</th>\n",
              "      <th>Occupato</th>\n",
              "    </tr>\n",
              "    <tr>\n",
              "      <th>date</th>\n",
              "      <th></th>\n",
              "      <th></th>\n",
              "      <th></th>\n",
              "      <th></th>\n",
              "      <th></th>\n",
              "      <th></th>\n",
              "      <th></th>\n",
              "      <th></th>\n",
              "      <th></th>\n",
              "      <th></th>\n",
              "      <th></th>\n",
              "    </tr>\n",
              "  </thead>\n",
              "  <tbody>\n",
              "    <tr>\n",
              "      <th>2015-02-02 14:19:00</th>\n",
              "      <td>23.7000</td>\n",
              "      <td>26.272</td>\n",
              "      <td>585.200000</td>\n",
              "      <td>749.200000</td>\n",
              "      <td>0.004764</td>\n",
              "      <td>0.0</td>\n",
              "      <td>0.0</td>\n",
              "      <td>1.0</td>\n",
              "      <td>0.0</td>\n",
              "      <td>0.0</td>\n",
              "      <td>1</td>\n",
              "    </tr>\n",
              "    <tr>\n",
              "      <th>2015-02-02 14:19:59</th>\n",
              "      <td>23.7180</td>\n",
              "      <td>26.290</td>\n",
              "      <td>578.400000</td>\n",
              "      <td>760.400000</td>\n",
              "      <td>0.004773</td>\n",
              "      <td>0.0</td>\n",
              "      <td>0.0</td>\n",
              "      <td>1.0</td>\n",
              "      <td>0.0</td>\n",
              "      <td>0.0</td>\n",
              "      <td>1</td>\n",
              "    </tr>\n",
              "    <tr>\n",
              "      <th>2015-02-02 14:21:00</th>\n",
              "      <td>23.7300</td>\n",
              "      <td>26.230</td>\n",
              "      <td>572.666667</td>\n",
              "      <td>769.666667</td>\n",
              "      <td>0.004765</td>\n",
              "      <td>0.0</td>\n",
              "      <td>0.0</td>\n",
              "      <td>1.0</td>\n",
              "      <td>0.0</td>\n",
              "      <td>0.0</td>\n",
              "      <td>1</td>\n",
              "    </tr>\n",
              "    <tr>\n",
              "      <th>2015-02-02 14:22:00</th>\n",
              "      <td>23.7225</td>\n",
              "      <td>26.125</td>\n",
              "      <td>493.750000</td>\n",
              "      <td>774.750000</td>\n",
              "      <td>0.004744</td>\n",
              "      <td>0.0</td>\n",
              "      <td>0.0</td>\n",
              "      <td>1.0</td>\n",
              "      <td>0.0</td>\n",
              "      <td>0.0</td>\n",
              "      <td>1</td>\n",
              "    </tr>\n",
              "    <tr>\n",
              "      <th>2015-02-02 14:23:00</th>\n",
              "      <td>23.7540</td>\n",
              "      <td>26.200</td>\n",
              "      <td>488.600000</td>\n",
              "      <td>779.000000</td>\n",
              "      <td>0.004767</td>\n",
              "      <td>0.0</td>\n",
              "      <td>0.0</td>\n",
              "      <td>1.0</td>\n",
              "      <td>0.0</td>\n",
              "      <td>0.0</td>\n",
              "      <td>1</td>\n",
              "    </tr>\n",
              "  </tbody>\n",
              "</table>\n",
              "</div>\n",
              "      <button class=\"colab-df-convert\" onclick=\"convertToInteractive('df-4a23de39-538e-45c3-8a3b-788b620a96cd')\"\n",
              "              title=\"Convert this dataframe to an interactive table.\"\n",
              "              style=\"display:none;\">\n",
              "        \n",
              "  <svg xmlns=\"http://www.w3.org/2000/svg\" height=\"24px\"viewBox=\"0 0 24 24\"\n",
              "       width=\"24px\">\n",
              "    <path d=\"M0 0h24v24H0V0z\" fill=\"none\"/>\n",
              "    <path d=\"M18.56 5.44l.94 2.06.94-2.06 2.06-.94-2.06-.94-.94-2.06-.94 2.06-2.06.94zm-11 1L8.5 8.5l.94-2.06 2.06-.94-2.06-.94L8.5 2.5l-.94 2.06-2.06.94zm10 10l.94 2.06.94-2.06 2.06-.94-2.06-.94-.94-2.06-.94 2.06-2.06.94z\"/><path d=\"M17.41 7.96l-1.37-1.37c-.4-.4-.92-.59-1.43-.59-.52 0-1.04.2-1.43.59L10.3 9.45l-7.72 7.72c-.78.78-.78 2.05 0 2.83L4 21.41c.39.39.9.59 1.41.59.51 0 1.02-.2 1.41-.59l7.78-7.78 2.81-2.81c.8-.78.8-2.07 0-2.86zM5.41 20L4 18.59l7.72-7.72 1.47 1.35L5.41 20z\"/>\n",
              "  </svg>\n",
              "      </button>\n",
              "      \n",
              "  <style>\n",
              "    .colab-df-container {\n",
              "      display:flex;\n",
              "      flex-wrap:wrap;\n",
              "      gap: 12px;\n",
              "    }\n",
              "\n",
              "    .colab-df-convert {\n",
              "      background-color: #E8F0FE;\n",
              "      border: none;\n",
              "      border-radius: 50%;\n",
              "      cursor: pointer;\n",
              "      display: none;\n",
              "      fill: #1967D2;\n",
              "      height: 32px;\n",
              "      padding: 0 0 0 0;\n",
              "      width: 32px;\n",
              "    }\n",
              "\n",
              "    .colab-df-convert:hover {\n",
              "      background-color: #E2EBFA;\n",
              "      box-shadow: 0px 1px 2px rgba(60, 64, 67, 0.3), 0px 1px 3px 1px rgba(60, 64, 67, 0.15);\n",
              "      fill: #174EA6;\n",
              "    }\n",
              "\n",
              "    [theme=dark] .colab-df-convert {\n",
              "      background-color: #3B4455;\n",
              "      fill: #D2E3FC;\n",
              "    }\n",
              "\n",
              "    [theme=dark] .colab-df-convert:hover {\n",
              "      background-color: #434B5C;\n",
              "      box-shadow: 0px 1px 3px 1px rgba(0, 0, 0, 0.15);\n",
              "      filter: drop-shadow(0px 1px 2px rgba(0, 0, 0, 0.3));\n",
              "      fill: #FFFFFF;\n",
              "    }\n",
              "  </style>\n",
              "\n",
              "      <script>\n",
              "        const buttonEl =\n",
              "          document.querySelector('#df-4a23de39-538e-45c3-8a3b-788b620a96cd button.colab-df-convert');\n",
              "        buttonEl.style.display =\n",
              "          google.colab.kernel.accessAllowed ? 'block' : 'none';\n",
              "\n",
              "        async function convertToInteractive(key) {\n",
              "          const element = document.querySelector('#df-4a23de39-538e-45c3-8a3b-788b620a96cd');\n",
              "          const dataTable =\n",
              "            await google.colab.kernel.invokeFunction('convertToInteractive',\n",
              "                                                     [key], {});\n",
              "          if (!dataTable) return;\n",
              "\n",
              "          const docLinkHtml = 'Like what you see? Visit the ' +\n",
              "            '<a target=\"_blank\" href=https://colab.research.google.com/notebooks/data_table.ipynb>data table notebook</a>'\n",
              "            + ' to learn more about interactive tables.';\n",
              "          element.innerHTML = '';\n",
              "          dataTable['output_type'] = 'display_data';\n",
              "          await google.colab.output.renderOutput(dataTable, element);\n",
              "          const docLink = document.createElement('div');\n",
              "          docLink.innerHTML = docLinkHtml;\n",
              "          element.appendChild(docLink);\n",
              "        }\n",
              "      </script>\n",
              "    </div>\n",
              "  </div>\n",
              "  "
            ]
          },
          "metadata": {},
          "execution_count": 75
        }
      ],
      "source": [
        "# trasformo in datetime l'elemento 'date'\n",
        "data_all['date'] = pd.to_datetime((data_all['date']))\n",
        "\n",
        "# creo delle colonne utili, inizializzandole tutte e zero (float)\n",
        "data_all['Notte'] = 0.\n",
        "data_all['Mattina'] = 0.\n",
        "data_all['Mezzogiorno'] = 0.\n",
        "data_all['Pomeriggio'] = 0.\n",
        "data_all['Sera'] = 0.\n",
        "\n",
        "# assegno i valori alle colonne create sopra sulla base della fascia oraria\n",
        "data_all.loc[(data_all['date'].dt.hour < 8) | (data_all['date'].dt.hour > 21), 'Notte'] = 1.\n",
        "data_all.loc[(data_all['date'].dt.hour <= 12) & (data_all['date'].dt.hour >= 8), 'Mattina'] = 1.\n",
        "data_all.loc[(data_all['date'].dt.hour > 12) & (data_all['date'].dt.hour <= 15), 'Mezzogiorno'] = 1.\n",
        "data_all.loc[(data_all['date'].dt.hour > 15) & (data_all['date'].dt.hour <= 18), 'Pomeriggio'] = 1.\n",
        "data_all.loc[(data_all['date'].dt.hour > 18) & (data_all['date'].dt.hour <= 21), 'Sera'] = 1.\n",
        "\n",
        "# elimino eventuali duplicati\n",
        "data_all.drop_duplicates(inplace=True)\n",
        "\n",
        "# rinomino Occupancy ad Occupato\n",
        "data_all['Occupato'] = data_all['Occupancy']\n",
        "del data_all['Occupancy']\n",
        "\n",
        "# setto 'date' come inide\n",
        "data_all.set_index('date', inplace=True)\n",
        "\n",
        "data_all.head()"
      ]
    },
    {
      "cell_type": "code",
      "execution_count": 76,
      "metadata": {
        "pycharm": {
          "name": "#%%\n"
        },
        "id": "Ho_emkDljZUd",
        "outputId": "695bdab4-eff1-4386-d468-8497cbc40299",
        "colab": {
          "base_uri": "https://localhost:8080/"
        }
      },
      "outputs": [
        {
          "output_type": "stream",
          "name": "stdout",
          "text": [
            "<class 'pandas.core.frame.DataFrame'>\n",
            "<class 'numpy.ndarray'>\n"
          ]
        }
      ],
      "source": [
        "print(type(data_all))\n",
        "\n",
        "# creo un oggeto np array associato al dataset\n",
        "dataset = data_all.values\n",
        "\n",
        "print(type(dataset))"
      ]
    },
    {
      "cell_type": "code",
      "execution_count": 77,
      "metadata": {
        "pycharm": {
          "name": "#%%\n"
        },
        "id": "OQSc6oi_jZUe"
      },
      "outputs": [],
      "source": [
        "# Divido train e plit test\n",
        "\n",
        "split_point = int(len(dataset) * 0.95)\n",
        "\n",
        "x_train = dataset[:split_point, :-1 ]\n",
        "y_train = dataset[:split_point, -1 ]\n",
        "\n",
        "x_test = dataset[split_point:, :-1 ]\n",
        "y_test = dataset[split_point:, -1 ]"
      ]
    },
    {
      "cell_type": "code",
      "execution_count": 78,
      "metadata": {
        "pycharm": {
          "name": "#%%\n"
        },
        "id": "xizpzQlfjZUe"
      },
      "outputs": [],
      "source": [
        "# Normalizzo i dati\n",
        "\n",
        "scaler = StandardScaler()\n",
        "scaler.fit(x_train)\n",
        "\n",
        "x_train_std = scaler.transform(x_train)\n",
        "x_test_std = scaler.transform(x_test)"
      ]
    },
    {
      "cell_type": "code",
      "source": [
        "print(\"dataset originale:\", x_train_std.shape)\n",
        "print(x_test_std.shape)"
      ],
      "metadata": {
        "colab": {
          "base_uri": "https://localhost:8080/"
        },
        "id": "nnO5shDRHcSs",
        "outputId": "e6f964ab-4efe-4c70-ee16-4de1903b792c"
      },
      "execution_count": 79,
      "outputs": [
        {
          "output_type": "stream",
          "name": "stdout",
          "text": [
            "dataset originale: (19532, 10)\n",
            "(1028, 10)\n"
          ]
        }
      ]
    },
    {
      "cell_type": "markdown",
      "metadata": {
        "id": "B80gmBkGjZUf"
      },
      "source": [
        "get_time_series(...) si occupa di trasformare il dataset originale in una __serie temporale__ che potrà poi essere data in pasto alla nostra rete ricorrente\n",
        "\n",
        "**supponiamo che**\n",
        "- steps_back = 3\n",
        "- len(features) = 100\n",
        "\n",
        "avremo *i* che va *da 3 a 100*, **da cui**\n",
        "\n",
        "**i = 3 (prima)**\\\n",
        "ts_features.append( features[0 : 3] ) _<- da 0 a 2 compresi_ \\\n",
        "ts_labels.append(labels[2]) _<- label elemento 2_\n",
        "\n",
        "x = [0,1,2] \\\n",
        "y = [y(2)]\n",
        "\n",
        "--\n",
        "  \n",
        "**i = 4**\\\n",
        "ts_features.append( features[1 : 4] ) _<- da 1 a 3 compresi_ \\\n",
        "ts_labels.append(labels[3]) _<- label elemento 3_\n",
        "\n",
        "\n",
        "x = [1,2,3] \\\n",
        "y = [y(3)]\n",
        "\n",
        "--\n",
        "\n",
        "[...]\n",
        "\n",
        "--\n",
        "\n",
        "**i = 99  (penultima)**\\\n",
        "ts_features.append( features[96 : 99] ) _<- da 96 a 98 compresi_ \\\n",
        "ts_labels.append(labels[98]) _<- label elemento 98_\n",
        "\n",
        "x = [96,97,98] \\\n",
        "y = [y(98)]\n",
        "\n",
        "--\n",
        "\n",
        "**i = 100  (ultima)**\\\n",
        "ts_features.append( features[96 : 99] ) _<- da 96 a 98 compresi_ \\\n",
        "ts_labels.append(labels[99]) _<- label elemento 99_\n",
        "\n",
        "x = [97,98,99] \\\n",
        "y = [y(99)]\n",
        "\n",
        "--\n",
        "\n",
        "in pratica ts_features è una serie temporale di 97 elementi, ognuno dei quali contiene 3 sequenze diverse e, per ognuna di queste segnenze, contiene le varie features"
      ]
    },
    {
      "cell_type": "code",
      "execution_count": 80,
      "metadata": {
        "pycharm": {
          "name": "#%%\n"
        },
        "id": "YYOmVddujZUg"
      },
      "outputs": [],
      "source": [
        "def get_time_series(features, labels, steps_back):\n",
        "    \n",
        "    assert len(features) == len(labels)\n",
        "    assert steps_back > 0\n",
        "    \n",
        "    ts_features = []\n",
        "    ts_labels = []\n",
        "    \n",
        "    for i in range(steps_back, len(features) +1):\n",
        "        ts_features.append( features[i - steps_back : i] )\n",
        "        ts_labels.append(labels[i - 1])\n",
        "    \n",
        "    return np.asarray(ts_features), np.asarray(ts_labels)\n",
        "\n",
        "steps_back = 60\n",
        "\n",
        "#Trasformo i dataset di train e i dataset di test in serie temporali\n",
        "x_train_ts, y_train_ts = get_time_series(x_train_std, y_train, steps_back)\n",
        "x_test_ts, y_test_ts = get_time_series(x_test_std, y_test, steps_back)"
      ]
    },
    {
      "cell_type": "markdown",
      "source": [
        "len(RECURRENT) = len(ORIGINALE) - T + 1"
      ],
      "metadata": {
        "id": "4UV_soGxl96u"
      }
    },
    {
      "cell_type": "code",
      "source": [
        "print(x_train_ts.shape)\n",
        "print(y_train_ts.shape)"
      ],
      "metadata": {
        "colab": {
          "base_uri": "https://localhost:8080/"
        },
        "id": "L6thm0u0HUIq",
        "outputId": "cdcdb259-2a11-4240-ea3c-0d685a60d133"
      },
      "execution_count": 81,
      "outputs": [
        {
          "output_type": "stream",
          "name": "stdout",
          "text": [
            "(19473, 60, 10)\n",
            "(19473,)\n"
          ]
        }
      ]
    },
    {
      "cell_type": "markdown",
      "metadata": {
        "id": "R3dyKcNajZUh"
      },
      "source": [
        "Vari controlli che sia tutto ok"
      ]
    },
    {
      "cell_type": "code",
      "execution_count": 82,
      "metadata": {
        "pycharm": {
          "name": "#%%\n"
        },
        "id": "xH1k1h-3jZUh"
      },
      "outputs": [],
      "source": [
        "# Verico che la singola serie temporale abbia gli stessi valore\n",
        "# dei valori contenuti nel rispettivo elemento del dataset originale\n",
        "# guardo la prima\n",
        "assert np.all(x_train_ts[0][0] == x_train_std[0])\n",
        "\n",
        "# Verifico che l'etichetta della prima serie temporale sia corretta\n",
        "# (guardo per la prima)\n",
        "assert y_train_ts[0] == y_train[steps_back]\n",
        "\n",
        "# Stessa identica cosa su un elemento a caso (42)\n",
        "assert np.all(x_train_ts[42][0] == x_train_std[42])\n",
        "assert y_train_ts[42] == y_train[42 + steps_back]\n",
        "\n",
        "\n",
        "\n",
        "# Rifaccio gli stessi controlli di cui sora, anche per la serie di test\n",
        "assert np.all(x_test_ts[0][0] == x_test_std[0])\n",
        "assert y_test_ts[0] == y_test[steps_back]\n",
        "\n",
        "assert np.all(x_test_ts[42][0] == x_test_std[42])\n",
        "assert y_test_ts[42] == y_test[42 + steps_back]"
      ]
    },
    {
      "cell_type": "markdown",
      "metadata": {
        "id": "HvvGF8YxjZUh"
      },
      "source": [
        "Utilizziamo una rete di default di Keras (SimpleRNN)"
      ]
    },
    {
      "cell_type": "markdown",
      "metadata": {
        "id": "rYHD7hk-jZUi"
      },
      "source": [
        "Creo la rete in maniera funzionale, utilizzando la SimpleRNN "
      ]
    },
    {
      "cell_type": "markdown",
      "source": [
        "**Studio dimensionale parametri del modello**\n",
        "\n",
        "\\\n",
        "\n",
        "**|| W(input) || = n° features x n° celle**\n",
        "\n",
        "Questo è il calcolo di base delle reti neurali. Ogni input (feauture in questo caso) si connette in modo dense a ogni cella del layer, creando un numero di parametri pari a n° features x n° celle\n",
        "\n",
        "\\\n",
        "\n",
        "**|| W(ricorrente) || = n° celle x n° celle**\n",
        "\n",
        "Nelle reti ricorrenti abbiamo che la nuova funzione di attivazione sarà:\n",
        "\\\n",
        "g( W(input).T \\*x + W(ricorrente) \\* h[t-1] + b )\n",
        "\n",
        "\\\n",
        "\n",
        "\n",
        "quindi W(ricorrente) \\* h[t-1] deve potersi sommare (e quindi avere la stessa dimensione di W(input).T \\*x.\n",
        "\n",
        "\\\n",
        "\n",
        "**Sappiamo che**\n",
        "\\\n",
        "\\\n",
        "|| W(input) || = n° features x n° celle \n",
        "\\\n",
        "\\\n",
        "**da cui** \n",
        "\\\n",
        "\\\n",
        "||W(input).T||  = n° celle  x n° features\n",
        "\\\n",
        "\\\n",
        "**mentre** \n",
        "\\\n",
        "\\\n",
        "|| x || =  n° features x 1\n",
        "\\\n",
        "\\\n",
        "**da cui abbiamo che** \n",
        "\\\n",
        " W(input).T \\* x  = ( n° celle x n° features ) x ( n° features x 1 ) = n° celle x 1\n",
        "\n",
        "**quindi** per poter fare la somma **vogliamo che:**\n",
        "\n",
        "> W(ricorrente) \\* h[t-1] = n° celle x 1\n",
        "\n",
        "**e sappiamo anche che**\n",
        "\\\n",
        "\\\n",
        " || h[t-1] || = (n° celle x 1 )\n",
        "\\\n",
        "\\\n",
        "**da cui**\n",
        "(? x ? ) \\* (n° celle x 1 ) =  n° celle x 1 \n",
        "\\\n",
        "\\\n",
        "**e quindi infine**\n",
        "\\\n",
        "\\\n",
        "(? x ? ) = ( n° celle x n° celle)\n",
        "\\\n",
        "\\\n",
        "**infatti**\n",
        "( n° celle x n° celle) x  (n° celle x 1 ) = (n° celle x 1)\n",
        "\\\n",
        "\\\n",
        "**Inoltre sappiamo anche che**\n",
        "\n",
        " || b || = n° celle x 1\n",
        "\n",
        "\n",
        "e questo tornerà nuovamente in input al nodo h.\n",
        "\n",
        "\n",
        "Paramentei totali = ||W(input)|| + ||W(ricorrente)|| + ||b||\n",
        "\n",
        "\n",
        "\\\n",
        "W(input)      = n° features x n° celle\n",
        "\\\n",
        "W(ricorrente) = n° celle x n° celle\n",
        "\\\n",
        "b = n° celle x 1          \n",
        "\\\n",
        "\\\n",
        "**nel nostro caso:**\n",
        "- W(input)      = 10 x 4\n",
        "- W(ricorrente) = 4 x 4\n",
        "- b             = 4\n",
        "\n",
        "\\\n",
        "**Totale**        = 40 + 16 + 4 = 60\n",
        "\n",
        "\\\n",
        "A cui si sommano i 5 parametri della dense con un solo nodo (4 coefficienti + 1 bias)\n",
        "\\\n",
        "\\\n",
        "**Totale**        =  60+ 5 = 65"
      ],
      "metadata": {
        "id": "wa0V37WqAp_r"
      }
    },
    {
      "cell_type": "code",
      "execution_count": 83,
      "metadata": {
        "pycharm": {
          "name": "#%%\n"
        },
        "id": "xPI5VA6ujZUi",
        "outputId": "25f7893b-3891-4aa9-e467-0c9b1dbb0fd3",
        "colab": {
          "base_uri": "https://localhost:8080/"
        }
      },
      "outputs": [
        {
          "output_type": "stream",
          "name": "stdout",
          "text": [
            "Model: \"model_1\"\n",
            "_________________________________________________________________\n",
            " Layer (type)                Output Shape              Param #   \n",
            "=================================================================\n",
            " input_2 (InputLayer)        [(None, 60, 10)]          0         \n",
            "                                                                 \n",
            " simple_rnn_1 (SimpleRNN)    (None, 4)                 60        \n",
            "                                                                 \n",
            " dense_1 (Dense)             (None, 1)                 5         \n",
            "                                                                 \n",
            "=================================================================\n",
            "Total params: 65\n",
            "Trainable params: 65\n",
            "Non-trainable params: 0\n",
            "_________________________________________________________________\n"
          ]
        }
      ],
      "source": [
        "# Definisco l'on input\n",
        "# con x_train_ts.shape[1:] escludo la prima dimensione perché mi \n",
        "# va a rappresentare il numero di esempi del dataset (19472), ma noi\n",
        "# vogliamo solamente la shape  (60,10)\n",
        "input = tf.keras.layers.Input(shape=x_train_ts.shape[1:])\n",
        "\n",
        "# Definisco la RNN associata all'input\n",
        "rnn = tf.keras.layers.SimpleRNN(units=4, dropout=0.5)(input)\n",
        "\n",
        "# Definisco l'output\n",
        "output = tf.keras.layers.Dense(1, activation='sigmoid')(rnn)\n",
        "\n",
        "## ACHTUNG\n",
        "# Per fare un test ho cambiato l'outpu con rnn\n",
        "\n",
        "# creo il modello\n",
        "model = tf.keras.models.Model(\n",
        "    inputs=input,\n",
        "    outputs=output,\n",
        ")\n",
        "\n",
        "# 'compilo' il modello\n",
        "model.compile(\n",
        "    optimizer=tf.keras.optimizers.Adam(learning_rate=0.003),\n",
        "    loss=tf.keras.losses.MeanSquaredError(),\n",
        "    metrics=tf.keras.metrics.BinaryAccuracy()\n",
        ")\n",
        "\n",
        "model.summary()\n",
        "\n"
      ]
    },
    {
      "cell_type": "code",
      "execution_count": 84,
      "metadata": {
        "pycharm": {
          "name": "#%%\n"
        },
        "id": "2OSeaXf_jZUj",
        "outputId": "e11bef4d-b6c3-4155-8d16-6d0e1344e2f7",
        "colab": {
          "base_uri": "https://localhost:8080/"
        }
      },
      "outputs": [
        {
          "output_type": "stream",
          "name": "stdout",
          "text": [
            "Epoch 1/10\n",
            "77/77 - 5s - loss: 0.2225 - binary_accuracy: 0.6449 - val_loss: 0.3172 - val_binary_accuracy: 0.1981 - 5s/epoch - 61ms/step\n",
            "Epoch 2/10\n",
            "77/77 - 2s - loss: 0.1111 - binary_accuracy: 0.8633 - val_loss: 0.4056 - val_binary_accuracy: 0.2043 - 2s/epoch - 23ms/step\n",
            "Epoch 3/10\n",
            "77/77 - 1s - loss: 0.0673 - binary_accuracy: 0.9191 - val_loss: 0.6359 - val_binary_accuracy: 0.0774 - 1s/epoch - 17ms/step\n",
            "Epoch 4/10\n",
            "77/77 - 1s - loss: 0.0406 - binary_accuracy: 0.9570 - val_loss: 0.5446 - val_binary_accuracy: 0.3199 - 715ms/epoch - 9ms/step\n",
            "Epoch 5/10\n",
            "77/77 - 1s - loss: 0.0274 - binary_accuracy: 0.9719 - val_loss: 0.0641 - val_binary_accuracy: 0.9267 - 731ms/epoch - 9ms/step\n",
            "Epoch 6/10\n",
            "77/77 - 2s - loss: 0.0228 - binary_accuracy: 0.9758 - val_loss: 0.1273 - val_binary_accuracy: 0.8555 - 2s/epoch - 22ms/step\n",
            "Epoch 7/10\n",
            "77/77 - 1s - loss: 0.0202 - binary_accuracy: 0.9779 - val_loss: 0.0638 - val_binary_accuracy: 0.9278 - 1s/epoch - 19ms/step\n",
            "Epoch 8/10\n",
            "77/77 - 1s - loss: 0.0209 - binary_accuracy: 0.9763 - val_loss: 0.0074 - val_binary_accuracy: 0.9917 - 714ms/epoch - 9ms/step\n",
            "Epoch 9/10\n",
            "77/77 - 1s - loss: 0.0205 - binary_accuracy: 0.9766 - val_loss: 0.0063 - val_binary_accuracy: 0.9928 - 716ms/epoch - 9ms/step\n",
            "Epoch 10/10\n",
            "77/77 - 1s - loss: 0.0192 - binary_accuracy: 0.9782 - val_loss: 0.0087 - val_binary_accuracy: 0.9907 - 743ms/epoch - 10ms/step\n"
          ]
        }
      ],
      "source": [
        "history = model.fit(\n",
        "    x_train_ts,\n",
        "    y_train_ts,\n",
        "    batch_size=256,\n",
        "    epochs=10,\n",
        "    validation_data=(\n",
        "        x_test_ts,\n",
        "        y_test_ts\n",
        "    ),\n",
        "    verbose=2\n",
        ")"
      ]
    },
    {
      "cell_type": "code",
      "execution_count": 85,
      "metadata": {
        "pycharm": {
          "name": "#%%\n"
        },
        "id": "w41WFdQPjZUj",
        "colab": {
          "base_uri": "https://localhost:8080/",
          "height": 611
        },
        "outputId": "b5047212-2ab3-4eb7-af8a-be7893009ee9"
      },
      "outputs": [
        {
          "output_type": "display_data",
          "data": {
            "text/plain": [
              "<Figure size 800x300 with 1 Axes>"
            ],
            "image/png": "[encoded data removed]"
          },
          "metadata": {}
        },
        {
          "output_type": "display_data",
          "data": {
            "text/plain": [
              "<Figure size 800x300 with 1 Axes>"
            ],
            "image/png": "[encoded data removed]"
          },
          "metadata": {}
        }
      ],
      "source": [
        "plt.figure(figsize=(8,3))\n",
        "plt.title('Loss')\n",
        "plt.plot(history.history['loss'], label='loss')\n",
        "plt.plot(history.history['val_loss'], label='validation loss')\n",
        "plt.legend()\n",
        "plt.show()\n",
        "\n",
        "plt.figure(figsize=(8,3))\n",
        "plt.title('Accuracy')\n",
        "plt.plot(history.history['binary_accuracy'], label='accuracy')\n",
        "plt.plot(history.history['val_binary_accuracy'], label='validation accuracy')\n",
        "plt.legend()\n",
        "plt.show()"
      ]
    },
    {
      "cell_type": "code",
      "execution_count": 86,
      "metadata": {
        "pycharm": {
          "name": "#%%\n"
        },
        "id": "VQKQO1hojZUj",
        "colab": {
          "base_uri": "https://localhost:8080/"
        },
        "outputId": "2b134d52-c22d-4a5e-8da5-511fc4f93101"
      },
      "outputs": [
        {
          "output_type": "stream",
          "name": "stdout",
          "text": [
            "1/1 [==============================] - 0s 157ms/step\n",
            " Prediction: [[0.9725261]] \n",
            " Real: 1.0\n"
          ]
        }
      ],
      "source": [
        "print( f\" Prediction: {model.predict(x_test_ts[42:43])} \\n Real: {y_test_ts[42]}\" )"
      ]
    },
    {
      "cell_type": "code",
      "execution_count": 87,
      "metadata": {
        "pycharm": {
          "name": "#%%\n"
        },
        "id": "TY_9imiSjZUk",
        "colab": {
          "base_uri": "https://localhost:8080/"
        },
        "outputId": "bb73c9e3-79d5-4d28-f8d8-4247ae39247f"
      },
      "outputs": [
        {
          "output_type": "stream",
          "name": "stdout",
          "text": [
            "1/1 [==============================] - 0s 23ms/step\n",
            " Prediction: [[0.02431748]] \n",
            " Real: 0.0\n"
          ]
        }
      ],
      "source": [
        "print( f\" Prediction: {model.predict(x_test_ts[114:115])} \\n Real: {y_test_ts[114]}\" )"
      ]
    },
    {
      "cell_type": "code",
      "execution_count": 88,
      "metadata": {
        "pycharm": {
          "name": "#%%\n"
        },
        "id": "0axLgabFjZUk",
        "colab": {
          "base_uri": "https://localhost:8080/"
        },
        "outputId": "9dc4ec1d-4e6c-4784-8a1e-34cdacfcb4a7"
      },
      "outputs": [
        {
          "output_type": "stream",
          "name": "stdout",
          "text": [
            "31/31 [==============================] - 0s 2ms/step\n",
            "0.9907120743034056\n"
          ]
        }
      ],
      "source": [
        "preds = model.predict(x_test_ts)\n",
        "preds = preds[:, 0]\n",
        "preds[preds > 0.5] = 1\n",
        "preds[preds < 1] = 0\n",
        "\n",
        "print(accuracy_score(y_test_ts, preds))"
      ]
    }
  ],
  "metadata": {
    "kernelspec": {
      "display_name": "Python 3",
      "name": "python3"
    },
    "language_info": {
      "codemirror_mode": {
        "name": "ipython",
        "version": 3
      },
      "file_extension": ".py",
      "mimetype": "text/x-python",
      "name": "python",
      "nbconvert_exporter": "python",
      "pygments_lexer": "ipython3",
      "version": "3.10.6"
    },
    "colab": {
      "provenance": []
    }
  },
  "nbformat": 4,
  "nbformat_minor": 0
}