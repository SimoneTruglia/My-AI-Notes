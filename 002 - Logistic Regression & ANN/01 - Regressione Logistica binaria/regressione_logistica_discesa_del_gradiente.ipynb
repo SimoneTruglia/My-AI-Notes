{
 "cells": [
  {
   "cell_type": "markdown",
   "metadata": {
    "collapsed": true
   },
   "source": [
    "Ottimizzazione di un modello basato sulla regressione logistica tramite discesa del\n",
    "gradiente, prima in maniera completamente autonoma, poi sfruttando la libreria SciKit-Learn"
   ]
  },
  {
   "cell_type": "code",
   "execution_count": 1,
   "metadata": {},
   "outputs": [],
   "source": [
    "# Import librerie necessarie\n",
    "import numpy as np\n",
    "import matplotlib.pyplot as plt\n",
    "import pandas as pd\n",
    "from scipy.optimize import fmin_tnc"
   ]
  },
  {
   "cell_type": "code",
   "execution_count": 1,
   "metadata": {},
   "outputs": [
    {
     "ename": "NameError",
     "evalue": "name 'pd' is not defined",
     "output_type": "error",
     "traceback": [
      "\u001b[0;31m---------------------------------------------------------------------------\u001b[0m",
      "\u001b[0;31mNameError\u001b[0m                                 Traceback (most recent call last)",
      "Cell \u001b[0;32mIn[1], line 2\u001b[0m\n\u001b[1;32m      1\u001b[0m \u001b[38;5;66;03m# caricamento dataset\u001b[39;00m\n\u001b[0;32m----> 2\u001b[0m data \u001b[38;5;241m=\u001b[39m \u001b[43mpd\u001b[49m\u001b[38;5;241m.\u001b[39mread_csv(\u001b[38;5;124m\"\u001b[39m\u001b[38;5;124mdata/exams_data.csv\u001b[39m\u001b[38;5;124m\"\u001b[39m)\n\u001b[1;32m      4\u001b[0m \u001b[38;5;66;03m# X = valori relativi alle features, tutte le colonne del dataset eccetto l'ultima\u001b[39;00m\n\u001b[1;32m      5\u001b[0m X \u001b[38;5;241m=\u001b[39m data\u001b[38;5;241m.\u001b[39miloc[:, :\u001b[38;5;241m-\u001b[39m\u001b[38;5;241m1\u001b[39m]\n",
      "\u001b[0;31mNameError\u001b[0m: name 'pd' is not defined"
     ]
    }
   ],
   "source": [
    "# caricamento dataset\n",
    "data = pd.read_csv(\"data/exams_data.csv\")\n",
    "\n",
    "# X = valori relativi alle features, tutte le colonne del dataset eccetto l'ultima\n",
    "X = data.iloc[:, :-1]\n",
    "\n",
    "# y = valori target, l'ultima colonna del dataseet\n",
    "y = data.iloc[:, -1]\n",
    "\n",
    "print(X)\n",
    "\n",
    "print(y)"
   ]
  },
  {
   "cell_type": "code",
   "execution_count": 19,
   "metadata": {},
   "outputs": [
    {
     "data": {
      "image/png": "[encoded data removed]",
      "text/plain": [
       "<Figure size 640x480 with 1 Axes>"
      ]
     },
     "metadata": {},
     "output_type": "display_data"
    }
   ],
   "source": [
    "# filtro sugli ammessi\n",
    "ammessi = data.loc[y == 1]\n",
    "\n",
    "# filtro sui non ammessi\n",
    "non_ammessi = data.loc[y == 0]\n",
    "\n",
    "# plotto i risultati\n",
    "plt.scatter(ammessi.iloc[:, 0], ammessi.iloc[:, 1], s=10, label='Ammessi', color=\"green\")\n",
    "plt.scatter(non_ammessi.iloc[:, 0], non_ammessi.iloc[:, 1], s=10, label='Non ammessi', color=\"red\")\n",
    "plt.legend()\n",
    "plt.show()"
   ]
  },
  {
   "cell_type": "markdown",
   "metadata": {},
   "source": [
    "## Preparazione del dataset"
   ]
  },
  {
   "cell_type": "markdown",
   "metadata": {},
   "source": [
    "#### Trasformazione delle $X$\n",
    "\n",
    "Andiamo ad aggiungere una colonna ai valori di $X$. \n",
    "\n",
    "Questa colonna conterrà tutti $1$ che verranno utilizzati successivamente per essere moltiplicati con l'elemento $\\theta_0$ della regressione logistica"
   ]
  },
  {
   "cell_type": "code",
   "execution_count": 20,
   "metadata": {},
   "outputs": [
    {
     "name": "stdout",
     "output_type": "stream",
     "text": [
      "(99, 2)\n",
      "(99, 3)\n"
     ]
    }
   ],
   "source": [
    "print(X.shape)\n",
    "\n",
    "# c_ effettua una concatenazione sul secondo asse (colonne)\n",
    "# è una \"shortcut\" di numpy su una funzione largamente utilizzata e, per\n",
    "# questo, altamente ottimizzata ed efficiente                    \n",
    "X = np.c_[np.ones((X.shape[0], 1)), X] \n",
    "\n",
    "print(X.shape)\n"
   ]
  },
  {
   "cell_type": "markdown",
   "metadata": {},
   "source": [
    "#### Trasformazione delle $Y$\n",
    "\n",
    "Andiamo ad aggiungere una colonna ai valori di $Y$. \n",
    "\n",
    "Prima di tutto trasformiamo $Y$ da una Panda Series a una lista"
   ]
  },
  {
   "cell_type": "code",
   "execution_count": 21,
   "metadata": {},
   "outputs": [
    {
     "name": "stdout",
     "output_type": "stream",
     "text": [
      "<class 'pandas.core.series.Series'>\n",
      "<class 'numpy.ndarray'>\n"
     ]
    }
   ],
   "source": [
    "print(type(y))\n",
    "y = y.values # trasformo y da una Pandas Series in una lista\n",
    "print(type(y))"
   ]
  },
  {
   "cell_type": "markdown",
   "metadata": {},
   "source": [
    "Successivamente aggiungiamo un nuovo asse a $Y$, in modo tale che da un'array monodimensionale, diventa una matrice con tante righe quanti i valori in $Y$ e un valore anche nullo come seconda colonna. \n",
    "\n",
    "Questo ci serve per rendere $Y$ in un formato compatibile con le $X$ per svolgere poi le varie operazioni tra le matrici"
   ]
  },
  {
   "cell_type": "code",
   "execution_count": 22,
   "metadata": {},
   "outputs": [
    {
     "name": "stdout",
     "output_type": "stream",
     "text": [
      "(99,)\n",
      "(99, 1)\n"
     ]
    }
   ],
   "source": [
    "print(y.shape)\n",
    "\n",
    "# trasformo y in una matrice di n righe ed una colonna, abbiamo aggiunto una nuova dimensione con np.newaxis\n",
    "y = y[:, np.newaxis] \n",
    "\n",
    "print(y.shape)\n"
   ]
  },
  {
   "cell_type": "markdown",
   "metadata": {},
   "source": [
    "#### Creazione dei parametre $\\theta$\n",
    "\n",
    "Andiamo a creare la matrice dei valori $\\theta$. Questa matrice conterrà tanti valori quanti sono gli elementi di $X$. Inizialmente tutti questi valori saranno inizializzat a zero e verranno poi aggiornati dal modello durante la fase di training"
   ]
  },
  {
   "cell_type": "code",
   "execution_count": 23,
   "metadata": {},
   "outputs": [
    {
     "name": "stdout",
     "output_type": "stream",
     "text": [
      "[[0.]\n",
      " [0.]\n",
      " [0.]]\n"
     ]
    }
   ],
   "source": [
    "theta = np.zeros((X.shape[1], 1))\n",
    "print(theta)"
   ]
  },
  {
   "cell_type": "markdown",
   "metadata": {},
   "source": [
    "### Definizioni delle funzioni principali\n",
    "\n",
    "Procediamo ora con la definizione della sigmoide, della funzione di costo e del gradiente\n",
    "\n",
    "__sigmoid():__ Funzione di attivazione. Sarà utilizzata come funzione di attivazione per mappare i numeri reali di input su valori tra 0 e 1, sulla base dei valori dei parametri $\\theta\\$\n",
    "\n",
    "$\\sigma(z) = \\frac{1}{1 + e^{-z}}$ \n",
    "\n",
    "--\n",
    "\n",
    "__cost_function():__ Funzione di costo. Sarà utilizzata per calcolare il costo della funzione di attivazione per tutti gli esempi\n",
    "\n",
    "$ J(\\theta) = \\frac{1}{m} \\sum_{i=1}^{m} \\left(y^{(i)} \\log \\left(\\sigma \\left(\\theta^T x^{(i)} \\right) \\right) + \\left(1-y^{(i)} \\right) \\log \\left(1-\\sigma \\left(\\theta^T x^{(i)} \\right) \\right) \\right)$\n",
    "\n",
    "--\n",
    "\n",
    "__gradient():__ Gradiente della funzione di costo. Sarà utilizzata per calcolare il gradiente sulla funzione di costo sulla base dei valori dei parametri $\\theta\\$\n",
    "\n",
    "$\\nabla J(\\theta) = \\frac{1}{m} X^T (\\sigma(X\\theta) - y)$\n"
   ]
  },
  {
   "cell_type": "code",
   "execution_count": 24,
   "metadata": {},
   "outputs": [],
   "source": [
    " def sigmoid(z):\n",
    "    return 1 / (1 + np.exp(-z))\n",
    "\n",
    "\n",
    "\n",
    "def cost_function(theta, x, y):\n",
    "    \n",
    "    total_cost = -(1 / x.shape[0]) * np.sum(\n",
    "                                    y  * np.log(sigmoid(np.dot(x, theta))) \n",
    "                                    + \n",
    "                                    (1 - y) * np.log(1 - sigmoid(np.dot(x, theta)))\n",
    "                                   )\n",
    "    return total_cost\n",
    "\n",
    "\n",
    "\n",
    "def gradient(theta, x, y):\n",
    "    \n",
    "    return (1 / x.shape[0]) * np.dot(x.T, sigmoid(np.dot(x, theta)) - y)"
   ]
  },
  {
   "cell_type": "markdown",
   "metadata": {},
   "source": [
    "### Addestramento del modello\n",
    "\n",
    "A questo punto possiamo passare alla fase di addrestamento del modello.\n",
    "\n",
    "Utilizzando il metodo fit, andremo andremo a minimizzare il costo della funzione cost_function() rispetto ai parametri theta tramite la funzione fmin_tnc() della libreria scipy\n",
    "\n",
    "Gli argomenti richiesti da fmin_tnc() sono:\n",
    "\n",
    "- __func:__ la funzione di costo da utilizzare\n",
    "\n",
    "- __x0:__ i parametri da ottimizzare \n",
    "\n",
    "- __fprime:__ la funzione di derivata prima della funzione di costo da utilizzare per l'ottimizzazione dei parametri\n",
    "\n",
    "- __args:__ gli esempi di train da utilizzare per l'ottimizzazione dei parametri. Nota che in questo contesto Y glielo passiamo come array monodimensionale, perché così è richiesto dalla libreria\n",
    "\n",
    "La funzione fit(), dopo avere effettuato l'addestramento, ci restituirà un array di lungezza theta.size(), contentente i parametri ottimizzati"
   ]
  },
  {
   "cell_type": "code",
   "execution_count": 25,
   "metadata": {},
   "outputs": [
    {
     "name": "stderr",
     "output_type": "stream",
     "text": [
      "  NIT   NF   F                       GTG\n",
      "    0    1  6.931471805599454E-01   2.89982570E+02\n",
      "    1    3  6.276894178094481E-01   7.35412266E-01\n",
      "    2    5  5.923168562936202E-01   6.79236154E+01\n",
      "    3    7  3.703550634937350E-01   2.43018451E+01\n",
      "    4    9  3.566192403872509E-01   6.65132908E+00\n",
      "    5   13  3.205910112788343E-01   7.28761553E+00\n",
      "    6   15  3.167658493789968E-01   1.35592357E+01\n",
      "    7   19  2.400845557116758E-01   2.46504347E+00\n",
      "    8   21  2.385366131480634E-01   1.11830168E-03\n",
      "tnc: fscale = 29.9034\n",
      "    9   23  2.385349982476269E-01   1.36580013E-03\n",
      "   10   25  2.343972157364771E-01   8.42053829E-01\n",
      "tnc: fscale = 1.08976\n",
      "   11   27  2.335864887437307E-01   3.80559269E-01\n",
      "   12   29  2.307067590127897E-01   3.33374155E-03\n",
      "   13   31  2.304049054374281E-01   8.01291111E-02\n",
      "   14   33  2.301767294370710E-01   1.07079022E-01\n",
      "tnc: stepmx = 1000\n",
      "   15   36  2.046968945832519E-01   4.01769830E-02\n",
      "   16   38  2.046676244802180E-01   7.33496472E-02\n",
      "   17   40  2.045705599879346E-01   1.48869283E-05\n",
      "tnc: fscale = 259.178\n",
      "   18   42  2.045704205276746E-01   4.42938007E-05\n",
      "   19   44  2.045702739961542E-01   8.23544787E-06\n",
      "   20   46  2.045574034925692E-01   3.56012831E-06\n",
      "tnc: |fn-fn-1] = 3.56962e-09 -> convergence\n",
      "   21   48  2.045573999229530E-01   3.79097306E-08\n",
      "tnc: Converged (|f_n-f_(n-1)| ~= 0)\n"
     ]
    }
   ],
   "source": [
    "# minimizzo il costo della funzione cost_function rispetto\n",
    "# ai parametri theta tramite la funzione fmin_tnc della\n",
    "# libreria scipy    \n",
    "def fit(x, y, theta):\n",
    "    \n",
    "    opt_weights = fmin_tnc(func=cost_function, x0=theta, fprime=gradient, args=(x, y.flatten()))\n",
    "    \n",
    "    return opt_weights[0]\n",
    "\n",
    "parameters = fit(X, y, theta)\n"
   ]
  },
  {
   "cell_type": "markdown",
   "metadata": {},
   "source": [
    "Printiamo a schermo i valori dei parametri ottenuti dalla fase di training e l'equazione che rappresenta il nostro conffine decisionale"
   ]
  },
  {
   "cell_type": "markdown",
   "metadata": {},
   "source": [
    "### Plot del confine decisionale\n",
    "\n",
    "Sfruttando i paramentei $\\theta$ individuati dal modello, andiamo a plottare la retta rappresentante il confine decisionale.\n",
    "\n",
    "E' importante osservare infatti, come tramite l'ottimizzazione dei parametri $\\theta$ all'interno di $\\sigma(\\theta)$ attraverso la minimizzazione della funzione di costo $J(\\theta)$ siamo in grado di creare una disequazione che funge da confine decisionale.\n",
    "\n",
    "__Questo accade perché__\n",
    "\n",
    "se $\\sigma(z) \\geq 0.5 \\rightarrow \\hat y = 1 $ \n",
    "\n",
    "mentre \n",
    "\n",
    "se $\\sigma(z) < 0.5 \\rightarrow \\hat y = 0 $\n",
    "\n",
    "e inoltre sappiamo che \n",
    "\n",
    "$\\sigma(z) = \\frac{1}{1 + e^{-z}}$\n",
    "\n",
    "\n",
    "e dato che \n",
    "\n",
    "$\\sigma(z) \\geq 0.5 \\rightarrow z \\geq 0$ \n",
    "\n",
    "e che\n",
    "\n",
    "$\\sigma(z) < 0.5 \\rightarrow z < 0$\n",
    "\n",
    "\n",
    "allora abbiamo che\n",
    "\n",
    "$\\hat y = 1 \\rightarrow z \\geq 0$\n",
    "\n",
    "e che \n",
    "\n",
    "$\\hat y = 0 \\rightarrow z < 0$\n",
    "\n",
    "Ora, ragionando nell'esempio precendente (con sole due features), abbiamo che\n",
    "\n",
    "$ z = \\theta X^T = \\theta_0 + \\theta_\\ x_1 + \\theta_2 x_2 $\n",
    "\n",
    "quindi \n",
    "\n",
    "$\\hat y = 1 \\rightarrow \\theta_0 + \\theta_\\ x_1 + \\theta_2 x_2 \\geq 0 $\n",
    "\n",
    "da cui\n",
    "\n",
    "$\\theta_2 x_2 \\geq - (\\theta_0 + \\theta_\\ x_1) $\n",
    "\n",
    "e quindi infine\n",
    "\n",
    "\n",
    "$ x_2 \\geq -\\frac{\\theta_0 + \\theta_1 x_1}{\\theta_2} $"
   ]
  },
  {
   "cell_type": "markdown",
   "metadata": {},
   "source": [
    "Questo dunque ci porta ad avere uan diseguaglianza sul piano $X_1, X_2$ che possiamo plottare per dividere dall confine decisionale\n",
    "\n",
    "Lo stesso discorso vale ovviamente in $R^n$ con l'impossibilità però di plottare così facilmente il confine decisionale\n",
    "\n",
    "$\n",
    "\\begin{equation*}\n",
    "\\begin{gathered}\n",
    "\\theta_0 + \\theta_1 x_1 + \\theta_2 x_2 = 0\n",
    "\\\\\\\\\n",
    "\\theta_2 x_2 = -(\\theta_0 + \\theta_1 x_1) \n",
    "\\\\\\\\\n",
    "x_2 = -\\frac{\\theta_0 + \\theta_1 x_1}{\\theta_2}\n",
    "\\end{gathered}\n",
    "\\end{equation*}\n",
    "$"
   ]
  },
  {
   "cell_type": "code",
   "execution_count": 27,
   "metadata": {},
   "outputs": [
    {
     "data": {
      "image/png": "[encoded data removed]",
      "text/plain": [
       "<Figure size 640x480 with 1 Axes>"
      ]
     },
     "metadata": {},
     "output_type": "display_data"
    },
    {
     "name": "stdout",
     "output_type": "stream",
     "text": [
      "Parametri theta:\n",
      "-\n",
      "theta_0: -24.86558264025691\n",
      "theta_1: 0.20334360708115276\n",
      "theta_2: 0.19985055557793222\n",
      "\n",
      "Equazione del confine decisionale:\n",
      "-\n",
      "theta_0*x_0 + theta_1*x_1 + theta_2*x_2\n"
     ]
    }
   ],
   "source": [
    "x_values = [np.min(X[:, 1]), np.max(X[:, 1])]\n",
    "y_values = - (parameters[0] + np.dot(parameters[1], x_values)) / parameters[2]\n",
    "\n",
    "plt.plot(x_values, y_values, label='Confine decisionale', color=\"gray\", linestyle='--')\n",
    "\n",
    "plt.xlabel('Esame 1 passato')\n",
    "plt.ylabel('Esame 2 passato')\n",
    "\n",
    "plt.scatter(ammessi.iloc[:, 0], ammessi.iloc[:, 1], s=10, label='Ammessi', color=\"green\")\n",
    "\n",
    "plt.scatter(non_ammessi.iloc[:, 0], non_ammessi.iloc[:, 1], s=10, label='Non ammessi', color=\"red\")\n",
    "\n",
    "plt.legend()\n",
    "plt.show()\n",
    "\n",
    "confine_decisionale = \"\"\n",
    "\n",
    "print(\"Parametri theta:\")\n",
    "print(\"-\")\n",
    "\n",
    "for i, p in enumerate(parameters):\n",
    "    \n",
    "    \n",
    "    print(f\"theta_{i}: {parameters[i]}\")\n",
    "    \n",
    "    confine_decisionale += f\"theta_{i}*x_{i}\"\n",
    "    \n",
    "    if(i < len(parameters) - 1):\n",
    "        confine_decisionale +=  \" + \"\n",
    "\n",
    "print(\"\")\n",
    "print(\"Equazione del confine decisionale:\")\n",
    "print(\"-\")\n",
    "print(confine_decisionale)"
   ]
  },
  {
   "cell_type": "markdown",
   "metadata": {},
   "source": [
    "### Calcoliamo l'accuracy del modello\n",
    "\n",
    "Per calcolare l'accuracy del modello abbiamo due metodi."
   ]
  },
  {
   "cell_type": "markdown",
   "metadata": {},
   "source": [
    "__METODO 1: CALCOLO TRAMITE MODELLO__\n",
    "\n",
    "Il primo metodo consiste nello sfruttare l'equazione di ipotesi con i paramtetri $\\theta$ ottenuti con la fase di fit, in modo da calcolare $\\sigma(\\theta X^T)$ e utilizzare un valore di trasholad $TH$ (ad esempio 0.5) sui risultati ottenti in modo tale che:\n",
    "\n",
    "$\n",
    "\\sigma(\\theta X^T) \\geq TH \\ \\rightarrow \\ \\hat y = 1\n",
    "\\\\\n",
    "\\sigma(\\theta X^T) < TH \\ \\rightarrow \\ \\hat y = 0\n",
    "$\n",
    "\n",
    "A questo punto andiamoa  confrontare i valori di $\\hat Y$ ottenuti per le $X$ testate, con gli effettivi valori d $Y$, in modo da ottenere l'accuracy del modello"
   ]
  },
  {
   "cell_type": "code",
   "execution_count": 12,
   "metadata": {},
   "outputs": [
    {
     "name": "stdout",
     "output_type": "stream",
     "text": [
      "Accuratezza tramite sigmoide 88.88888888888889 %\n"
     ]
    }
   ],
   "source": [
    "def predict_with_sigmoid(x):\n",
    "    theta = parameters[:, np.newaxis]\n",
    "    return sigmoid(np.dot(x, theta))\n",
    "\n",
    "def accuracy_with_sigmoid(x, actual_classes, probab_threshold=0.5):\n",
    "    predicted_classes = (predict_with_sigmoid(x) >= probab_threshold).astype(int)\n",
    "    predicted_classes = predicted_classes.flatten()\n",
    "    \n",
    "    # equivalente a accuracy = sum(predicted_classes == actual_classes)/len(actual_classes)*100\n",
    "    accuracy = np.mean(predicted_classes == actual_classes)\n",
    "    \n",
    "    return accuracy * 100\n",
    "\n",
    "print('Accuratezza tramite sigmoide', accuracy_with_sigmoid(X, y.flatten()), \"%\")"
   ]
  },
  {
   "cell_type": "markdown",
   "metadata": {},
   "source": [
    "__METODO 2: CALCOLO TRAMITE DISEGUAGLIANZA__\n",
    "\n",
    "Il secondo metodo consiste nel risolvere la diseguaglianza di del confine decisionale $ x_2 \\geq -\\frac{\\theta_0 + \\theta_1 x_1}{\\theta_2} $ utilizzando i valori $\\theta$ ottimizzati dal modello durante il fit, sapendo che:\n",
    "\n",
    "$ \n",
    "x_2 \\geq -\\frac{\\theta_0 + \\theta_1 x_1}{\\theta_2} \\rightarrow \\hat Y = 1\n",
    "\\\\\n",
    "\\\\\n",
    "x_2 < -\\frac{\\theta_0 + \\theta_1 x_1}{\\theta_2} \\rightarrow \\hat Y = 0\n",
    "$\n",
    "\n",
    "\n",
    "A questo punto andiamoa  confrontare i valori di $\\hat Y$ ottenuti per le $X$ testate, con gli effettivi valori d $Y$, in modo da ottenere l'accuracy del modello.\n",
    "\n",
    "A questo punto andiamoa  confrontare i valori di $\\hat Y$ ottenuti per le $X$ testate, con gli effettivi valori d $Y$, in modo da ottenere l'accuracy del modello"
   ]
  },
  {
   "cell_type": "code",
   "execution_count": 13,
   "metadata": {},
   "outputs": [
    {
     "name": "stdout",
     "output_type": "stream",
     "text": [
      "Accuracy tramite diseguaglianza:  88.88888888888889 %\n"
     ]
    }
   ],
   "source": [
    "def predict_with_border(x):\n",
    "    \n",
    "    tmp = - (parameters[0] + np.dot(parameters[1], x[:, 1])) / parameters[2]\n",
    "    \n",
    "    return x[:, 2] >= tmp\n",
    "\n",
    "\n",
    "def accuracy_with_border(x, y):\n",
    "    \n",
    "    # equivalente a sum(y.flatten() == predict_with_border(X))/len(y)*100\n",
    "    return np.mean(y.flatten() == predict_with_border(X))*100\n",
    "\n",
    "print('Accuracy tramite diseguaglianza: ', accuracy_with_border(X, y.flatten()) , \"%\")"
   ]
  },
  {
   "cell_type": "markdown",
   "metadata": {},
   "source": [
    "Ovviamente vediamo che i risultati di entrambi e i metodi sono coerenti tra loro!"
   ]
  },
  {
   "cell_type": "markdown",
   "metadata": {},
   "source": [
    "### Fit con  sci-kit learn\n",
    "\n",
    "Rifacciamo nuovamente il fit del modello, utilizzando questa volta la libreria sci-kit learn.\n",
    "\n",
    "Importante notare che sci-kit learn lavora in maniera altamente performante su questa tipologia di operazioni, anche su grandi quantità di dati.\n",
    "\n",
    "Sarà sci-kit learn stesso inoltre, a restituirci i valori di accuracy del modello"
   ]
  },
  {
   "cell_type": "code",
   "execution_count": 14,
   "metadata": {},
   "outputs": [],
   "source": [
    "# implementazione con sci-kit learn:\n",
    "from sklearn.linear_model import LogisticRegression\n",
    "from sklearn.metrics import accuracy_score\n",
    "\n",
    "model = LogisticRegression()\n",
    "\n",
    "X = X[:, 1:]\n",
    "\n",
    "#traformiamo l'array monodimensionle in una matrice che ha\n",
    "# N righe tanti quanti gli elementi dell'array e un'unica colonna per il valore\n",
    "# questo è importante per mantere la corenza nelle dimensioni \n",
    "y = np.reshape(y, (len(y), 1))\n",
    "\n",
    "# Addrestiamo il modello\n",
    "model.fit(X, y.flatten())\n",
    "\n",
    "# Facciamo predizione con il modello addestrato\n",
    "predicted_classes = model.predict(X)\n",
    "\n",
    "# Calcoliamo l'accuratezza\n",
    "accuracy = accuracy_score(y, predicted_classes)\n",
    "\n",
    "# Otteniamo i parametri del modello\n",
    "# > model.coef_: ci restituisce i coefficienti delle varie X\n",
    "# > model.intercept_: ci restiuisce il valore della distanza dall'origine\n",
    "parameters = model.coef_\n",
    "bias = model.intercept_"
   ]
  },
  {
   "cell_type": "markdown",
   "metadata": {},
   "source": [
    "Stampiamoci infine l'accuratezza e il valore dei parametri ottenuti tramite il fit fatto con sci-kit learn.\n",
    "\n",
    "Possiamo notare come i risultati siano praticamente equivalenti a quelli ottenuti in precedenza"
   ]
  },
  {
   "cell_type": "code",
   "execution_count": 15,
   "metadata": {},
   "outputs": [
    {
     "name": "stdout",
     "output_type": "stream",
     "text": [
      "Accuratezza 88.88888888888889\n",
      "Parametri: [[0.20251777 0.19901181]]\n",
      "Bias: [-24.76261953]\n"
     ]
    }
   ],
   "source": [
    "print('Accuratezza', accuracy * 100)\n",
    "print('Parametri:', parameters)\n",
    "print('Bias:', bias)"
   ]
  },
  {
   "cell_type": "markdown",
   "metadata": {},
   "source": [
    "Plottiamoci nuovamente il confine decisionale, utilizzando i parametri $\\theta$ ottenuti tramite il fit fatto con sci-kit learn.\n",
    "\n",
    "Possiamo notrare ovviamente che, dato che i paramentri sono gli stessi, anche il plot sarà identico a quello precedente."
   ]
  },
  {
   "cell_type": "code",
   "execution_count": 16,
   "metadata": {
    "scrolled": false
   },
   "outputs": [
    {
     "data": {
      "image/png": "[encoded data removed]",
      "text/plain": [
       "<Figure size 640x480 with 1 Axes>"
      ]
     },
     "metadata": {},
     "output_type": "display_data"
    }
   ],
   "source": [
    "x_values = [np.min(X[:, 1]), np.max(X[:, 1])]\n",
    "y_values = - (bias[0] + np.dot(parameters[0][0], x_values)) / parameters[0][1]\n",
    "\n",
    "plt.plot(x_values, y_values, label='Confine decisionale', color=\"gray\", linestyle='--')\n",
    "plt.xlabel('Esame 1 passato')\n",
    "plt.ylabel('Esame 2 passato')\n",
    "plt.scatter(ammessi.iloc[:, 0], ammessi.iloc[:, 1], s=10, label='Ammessi', color=\"green\")\n",
    "plt.scatter(non_ammessi.iloc[:, 0], non_ammessi.iloc[:, 1], s=10, label='Non ammessi', color=\"red\")\n",
    "plt.legend()\n",
    "plt.show()"
   ]
  }
 ],
 "metadata": {
  "kernelspec": {
   "display_name": "Python 3 (ipykernel)",
   "language": "python",
   "name": "python3"
  },
  "language_info": {
   "codemirror_mode": {
    "name": "ipython",
    "version": 3
   },
   "file_extension": ".py",
   "mimetype": "text/x-python",
   "name": "python",
   "nbconvert_exporter": "python",
   "pygments_lexer": "ipython3",
   "version": "3.10.6"
  }
 },
 "nbformat": 4,
 "nbformat_minor": 1
}
